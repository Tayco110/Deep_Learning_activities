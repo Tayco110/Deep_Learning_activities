{
 "cells": [
  {
   "cell_type": "code",
   "execution_count": 16,
   "metadata": {},
   "outputs": [],
   "source": [
    "import numpy as np\n",
    "from numpy.polynomial.polynomial import polygrid2d\n",
    "from numpy.polynomial.polynomial import polygrid3d"
   ]
  },
  {
   "cell_type": "code",
   "execution_count": 8,
   "metadata": {},
   "outputs": [
    {
     "name": "stdout",
     "output_type": "stream",
     "text": [
      "   2\n",
      "1 x + 2 x + 3\n"
     ]
    }
   ],
   "source": [
    "#Define a polynomial function\n",
    "\n",
    "func = np.poly1d([1, 2, 3])\n",
    "print(func)"
   ]
  },
  {
   "cell_type": "code",
   "execution_count": 9,
   "metadata": {},
   "outputs": [
    {
     "name": "stdout",
     "output_type": "stream",
     "text": [
      "   2\n",
      "3 x + 5 x + 7\n"
     ]
    }
   ],
   "source": [
    "#How to add one polynomial to another using NumPy in Python?\n",
    "\n",
    "func1 = np.poly1d([1, 2])\n",
    "func2 = np.poly1d([3, 4, 5])\n",
    "print(np.polyadd(func1,func2))"
   ]
  },
  {
   "cell_type": "code",
   "execution_count": 10,
   "metadata": {},
   "outputs": [
    {
     "name": "stdout",
     "output_type": "stream",
     "text": [
      "    2\n",
      "-3 x - 3 x - 3\n"
     ]
    }
   ],
   "source": [
    "#How to subtract one polynomial to another using NumPy in Python?\n",
    "\n",
    "func1 = np.poly1d([1, 2])\n",
    "func2 = np.poly1d([3, 4, 5])\n",
    "print(np.polysub(func1,func2))"
   ]
  },
  {
   "cell_type": "code",
   "execution_count": 11,
   "metadata": {},
   "outputs": [
    {
     "name": "stdout",
     "output_type": "stream",
     "text": [
      "   3      2\n",
      "3 x + 10 x + 13 x + 10\n"
     ]
    }
   ],
   "source": [
    "#How to multiply a polynomial to another using NumPy in Python?\n",
    "\n",
    "func1 = np.poly1d([1, 2])\n",
    "func2 = np.poly1d([3, 4, 5])\n",
    "print(np.polymul(func1,func2))"
   ]
  },
  {
   "cell_type": "code",
   "execution_count": 12,
   "metadata": {},
   "outputs": [
    {
     "name": "stdout",
     "output_type": "stream",
     "text": [
      "(poly1d([0.]), poly1d([1., 2.]))\n"
     ]
    }
   ],
   "source": [
    "#How to divide a polynomial to another using NumPy in Python?\n",
    "\n",
    "func1 = np.poly1d([1, 2])\n",
    "func2 = np.poly1d([3, 4, 5])\n",
    "print(np.polydiv(func1,func2))"
   ]
  },
  {
   "cell_type": "code",
   "execution_count": 15,
   "metadata": {},
   "outputs": [
    {
     "name": "stdout",
     "output_type": "stream",
     "text": [
      "[-0.66666667+1.1055416j -0.66666667-1.1055416j]\n"
     ]
    }
   ],
   "source": [
    "#Find the roots of the polynomials using NumPy\n",
    "\n",
    "func = np.poly1d([3,4,5])\n",
    "print(np.roots(func))"
   ]
  },
  {
   "cell_type": "code",
   "execution_count": 17,
   "metadata": {},
   "outputs": [
    {
     "name": "stdout",
     "output_type": "stream",
     "text": [
      "[[3205. 4899.]\n",
      " [4061. 6207.]]\n"
     ]
    }
   ],
   "source": [
    "#Evaluate a 2-D polynomial series on the Cartesian product\n",
    "\n",
    "array = np.array([[1, 2, 3], [4, 5, 6]]) \n",
    "print(polygrid2d([7, 9], [8, 10], array))"
   ]
  },
  {
   "cell_type": "code",
   "execution_count": 19,
   "metadata": {},
   "outputs": [
    {
     "ename": "AttributeError",
     "evalue": "module 'numpy' has no attribute 'polygrid3d'",
     "output_type": "error",
     "traceback": [
      "\u001b[1;31m---------------------------------------------------------------------------\u001b[0m",
      "\u001b[1;31mAttributeError\u001b[0m                            Traceback (most recent call last)",
      "\u001b[1;32mg:\\Outros computadores\\Desktop\\UFAL - SEMESTRE\\Processamento Digital de Imagens\\NumPy Tutorial\\Questions on Polynomial.ipynb Célula: 9\u001b[0m in \u001b[0;36m<cell line: 4>\u001b[1;34m()\u001b[0m\n\u001b[0;32m      <a href='vscode-notebook-cell:/g%3A/Outros%20computadores/Desktop/UFAL%20-%20SEMESTRE/Processamento%20Digital%20de%20Imagens/NumPy%20Tutorial/Questions%20on%20Polynomial.ipynb#X11sZmlsZQ%3D%3D?line=0'>1</a>\u001b[0m \u001b[39m#Evaluate a 3-D polynomial series on the Cartesian product\u001b[39;00m\n\u001b[0;32m      <a href='vscode-notebook-cell:/g%3A/Outros%20computadores/Desktop/UFAL%20-%20SEMESTRE/Processamento%20Digital%20de%20Imagens/NumPy%20Tutorial/Questions%20on%20Polynomial.ipynb#X11sZmlsZQ%3D%3D?line=2'>3</a>\u001b[0m array \u001b[39m=\u001b[39m np\u001b[39m.\u001b[39marray([[\u001b[39m1\u001b[39m, \u001b[39m2\u001b[39m, \u001b[39m3\u001b[39m], [\u001b[39m4\u001b[39m, \u001b[39m5\u001b[39m, \u001b[39m6\u001b[39m],[\u001b[39m7\u001b[39m, \u001b[39m8\u001b[39m, \u001b[39m9\u001b[39m]])\n\u001b[1;32m----> <a href='vscode-notebook-cell:/g%3A/Outros%20computadores/Desktop/UFAL%20-%20SEMESTRE/Processamento%20Digital%20de%20Imagens/NumPy%20Tutorial/Questions%20on%20Polynomial.ipynb#X11sZmlsZQ%3D%3D?line=3'>4</a>\u001b[0m \u001b[39mprint\u001b[39m(np\u001b[39m.\u001b[39;49mpolygrid3d([\u001b[39m7\u001b[39m, \u001b[39m9\u001b[39m], [\u001b[39m8\u001b[39m, \u001b[39m10\u001b[39m],[\u001b[39m5\u001b[39m, \u001b[39m6\u001b[39m], array))\n",
      "File \u001b[1;32mc:\\Users\\tayco\\anaconda3\\lib\\site-packages\\numpy\\__init__.py:313\u001b[0m, in \u001b[0;36m__getattr__\u001b[1;34m(attr)\u001b[0m\n\u001b[0;32m    310\u001b[0m     \u001b[39mfrom\u001b[39;00m \u001b[39m.\u001b[39;00m\u001b[39mtesting\u001b[39;00m \u001b[39mimport\u001b[39;00m Tester\n\u001b[0;32m    311\u001b[0m     \u001b[39mreturn\u001b[39;00m Tester\n\u001b[1;32m--> 313\u001b[0m \u001b[39mraise\u001b[39;00m \u001b[39mAttributeError\u001b[39;00m(\u001b[39m\"\u001b[39m\u001b[39mmodule \u001b[39m\u001b[39m{!r}\u001b[39;00m\u001b[39m has no attribute \u001b[39m\u001b[39m\"\u001b[39m\n\u001b[0;32m    314\u001b[0m                      \u001b[39m\"\u001b[39m\u001b[39m{!r}\u001b[39;00m\u001b[39m\"\u001b[39m\u001b[39m.\u001b[39mformat(\u001b[39m__name__\u001b[39m, attr))\n",
      "\u001b[1;31mAttributeError\u001b[0m: module 'numpy' has no attribute 'polygrid3d'"
     ]
    }
   ],
   "source": [
    "#Evaluate a 3-D polynomial series on the Cartesian product\n",
    "\n",
    "array = np.array([[1, 2, 3], [4, 5, 6],[7, 8, 9]])\n",
    "print(np.polygrid3d([7, 9], [8, 10],[5, 6], array))"
   ]
  }
 ],
 "metadata": {
  "kernelspec": {
   "display_name": "Python 3.9.12 ('base')",
   "language": "python",
   "name": "python3"
  },
  "language_info": {
   "codemirror_mode": {
    "name": "ipython",
    "version": 3
   },
   "file_extension": ".py",
   "mimetype": "text/x-python",
   "name": "python",
   "nbconvert_exporter": "python",
   "pygments_lexer": "ipython3",
   "version": "3.9.12"
  },
  "orig_nbformat": 4,
  "vscode": {
   "interpreter": {
    "hash": "3867dd0c25ae4009a5cdda78bdc01493f6e56033bc714ba4cc749160456480dc"
   }
  }
 },
 "nbformat": 4,
 "nbformat_minor": 2
}
