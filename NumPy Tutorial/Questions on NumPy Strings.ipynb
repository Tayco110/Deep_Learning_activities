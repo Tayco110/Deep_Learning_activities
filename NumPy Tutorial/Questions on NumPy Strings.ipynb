{
 "cells": [
  {
   "cell_type": "code",
   "execution_count": 22,
   "metadata": {},
   "outputs": [],
   "source": [
    "import numpy as np"
   ]
  },
  {
   "cell_type": "code",
   "execution_count": 23,
   "metadata": {},
   "outputs": [
    {
     "name": "stdout",
     "output_type": "stream",
     "text": [
      "['aa' 'bb' 'cc' 'dd' 'ee']\n"
     ]
    }
   ],
   "source": [
    "#Repeat all the elements of a NumPy array of strings\n",
    "\n",
    "string = np.array(['a','b','c','d','e'])\n",
    "print(np.char.multiply(string,2))"
   ]
  },
  {
   "cell_type": "code",
   "execution_count": 24,
   "metadata": {},
   "outputs": [
    {
     "name": "stdout",
     "output_type": "stream",
     "text": [
      "['a', 'b', 'c', 'd', 'e']\n"
     ]
    }
   ],
   "source": [
    "#How to split the element of a given NumPy array with spaces?\n",
    "\n",
    "string = np.array(['a b c d e'])\n",
    "print(np.char.split(string)[0])"
   ]
  },
  {
   "cell_type": "code",
   "execution_count": 25,
   "metadata": {},
   "outputs": [
    {
     "name": "stdout",
     "output_type": "stream",
     "text": [
      "['a b c d e']\n"
     ]
    }
   ],
   "source": [
    "#How to insert a space between characters of all the elements of a given NumPy array?\n",
    "\n",
    "string = np.array(['abcde'])\n",
    "print(np.char.join(\" \",string))"
   ]
  },
  {
   "cell_type": "code",
   "execution_count": 26,
   "metadata": {},
   "outputs": [
    {
     "name": "stdout",
     "output_type": "stream",
     "text": [
      "[5 6 6]\n"
     ]
    }
   ],
   "source": [
    "#Find the length of each string element in the Numpy array\n",
    "\n",
    "strings = np.array(['tayco','murilo','santos'])\n",
    "\n",
    "len = np.vectorize(len)\n",
    "print(len(strings))"
   ]
  },
  {
   "cell_type": "code",
   "execution_count": 27,
   "metadata": {},
   "outputs": [
    {
     "name": "stdout",
     "output_type": "stream",
     "text": [
      "['TAYCO' 'MURILO' 'SANTOS']\n"
     ]
    }
   ],
   "source": [
    "#Swap the case of an array of string\n",
    "\n",
    "strings = np.array(['tayco','murilo','santos'])\n",
    "print(np.char.swapcase(strings))"
   ]
  },
  {
   "cell_type": "code",
   "execution_count": 28,
   "metadata": {},
   "outputs": [
    {
     "name": "stdout",
     "output_type": "stream",
     "text": [
      "['TAYCO' 'MURILO' 'SANTOS']\n"
     ]
    }
   ],
   "source": [
    "#Change the case to uppercase of elements of an array\n",
    "\n",
    "strings = np.array(['tayco','murilo','santos'])\n",
    "print(np.char.upper(strings))"
   ]
  },
  {
   "cell_type": "code",
   "execution_count": 29,
   "metadata": {},
   "outputs": [
    {
     "name": "stdout",
     "output_type": "stream",
     "text": [
      "['tayco' 'murilo' 'santos']\n"
     ]
    }
   ],
   "source": [
    "#Change the case to lowercase of elements of an array\n",
    "\n",
    "strings = np.array(['TAYCO','MURILO','SANTOS'])\n",
    "print(np.char.lower(strings))"
   ]
  },
  {
   "cell_type": "code",
   "execution_count": 30,
   "metadata": {},
   "outputs": [
    {
     "name": "stdout",
     "output_type": "stream",
     "text": [
      "['t.a.y.c.o']\n"
     ]
    }
   ],
   "source": [
    "#Join String by a seperator\n",
    "\n",
    "string = np.array(['tayco'])\n",
    "print(np.char.join(\".\",string))"
   ]
  },
  {
   "cell_type": "code",
   "execution_count": 31,
   "metadata": {},
   "outputs": [
    {
     "name": "stdout",
     "output_type": "stream",
     "text": [
      "[ True  True False]\n"
     ]
    }
   ],
   "source": [
    "#Check if two same shaped string arrayss one by one\n",
    "\n",
    "strings1 = np.array(['tayco','murilo','santos'])\n",
    "strings2 = np.array(['tayco','murilo','santo'])\n",
    "print(np.char.equal(strings1,strings2))"
   ]
  },
  {
   "cell_type": "code",
   "execution_count": 32,
   "metadata": {},
   "outputs": [
    {
     "name": "stdout",
     "output_type": "stream",
     "text": [
      "[4]\n"
     ]
    }
   ],
   "source": [
    "#Count the number of substrings in an array\n",
    "\n",
    "string = np.array(['TAYCO MURILO SANTOS RODRIGUES'])\n",
    "print(np.char.count(string,'O'))"
   ]
  },
  {
   "cell_type": "code",
   "execution_count": 33,
   "metadata": {},
   "outputs": [
    {
     "name": "stdout",
     "output_type": "stream",
     "text": [
      "[0]\n"
     ]
    }
   ],
   "source": [
    "#Find the lowest index of the substring in an array\n",
    "\n",
    "string = np.array(['TAYCO MURILO SANTOS RODRIGUES'])\n",
    "print(np.char.find(string,'T'))"
   ]
  },
  {
   "cell_type": "code",
   "execution_count": 34,
   "metadata": {},
   "outputs": [
    {
     "name": "stdout",
     "output_type": "stream",
     "text": [
      "[ True  True False False]\n"
     ]
    }
   ],
   "source": [
    "#Get the boolean array when values end with a particular character\n",
    "\n",
    "string = np.array(['TAYCO', 'MURILO', 'SANTOS', 'RODRIGUES'])\n",
    "print(np.char.endswith(string,'O'))"
   ]
  }
 ],
 "metadata": {
  "kernelspec": {
   "display_name": "Python 3.9.12 ('base')",
   "language": "python",
   "name": "python3"
  },
  "language_info": {
   "codemirror_mode": {
    "name": "ipython",
    "version": 3
   },
   "file_extension": ".py",
   "mimetype": "text/x-python",
   "name": "python",
   "nbconvert_exporter": "python",
   "pygments_lexer": "ipython3",
   "version": "3.9.12"
  },
  "orig_nbformat": 4,
  "vscode": {
   "interpreter": {
    "hash": "3867dd0c25ae4009a5cdda78bdc01493f6e56033bc714ba4cc749160456480dc"
   }
  }
 },
 "nbformat": 4,
 "nbformat_minor": 2
}
