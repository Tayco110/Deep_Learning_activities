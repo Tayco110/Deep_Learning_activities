{
 "cells": [
  {
   "cell_type": "code",
   "execution_count": 4,
   "metadata": {},
   "outputs": [],
   "source": [
    "import numpy as np"
   ]
  },
  {
   "cell_type": "code",
   "execution_count": 7,
   "metadata": {},
   "outputs": [
    {
     "name": "stdout",
     "output_type": "stream",
     "text": [
      "[0.25 0.5  0.75 1.   1.25]\n"
     ]
    }
   ],
   "source": [
    "#How to get element-wise true division of an array using Numpy?\n",
    "\n",
    "array = np.array([1,2,3,4,5])\n",
    "print(np.true_divide(array, 4))"
   ]
  },
  {
   "cell_type": "code",
   "execution_count": 8,
   "metadata": {},
   "outputs": [
    {
     "name": "stdout",
     "output_type": "stream",
     "text": [
      "[1 2 3]\n"
     ]
    }
   ],
   "source": [
    "#How to calculate the element-wise absolute value of NumPy array?\n",
    "\n",
    "array = np.array([-1, -2, -3])\n",
    "print(np.absolute(array))"
   ]
  },
  {
   "cell_type": "code",
   "execution_count": 9,
   "metadata": {},
   "outputs": [
    {
     "name": "stdout",
     "output_type": "stream",
     "text": [
      "[-1 -2 -3 -4 -5]\n"
     ]
    }
   ],
   "source": [
    "#Compute the negative of the NumPy array\n",
    "\n",
    "array = np.array([1,2,3,4,5])\n",
    "print(np.negative(array))"
   ]
  },
  {
   "cell_type": "code",
   "execution_count": 12,
   "metadata": {},
   "outputs": [
    {
     "name": "stdout",
     "output_type": "stream",
     "text": [
      "[[ 1  4  7]\n",
      " [ 4 10 16]\n",
      " [ 9 18 27]]\n"
     ]
    }
   ],
   "source": [
    "#Multiply 2d numpy array corresponding to 1d array\n",
    "\n",
    "array1 = np.array([[1, 2, 3], [4, 5, 6], [7, 8, 9]])\n",
    "array2 = np.array([1, 2, 3])\n",
    "\n",
    "print((array1 * array2).T)"
   ]
  },
  {
   "cell_type": "code",
   "execution_count": 13,
   "metadata": {},
   "outputs": [
    {
     "name": "stdout",
     "output_type": "stream",
     "text": [
      "32\n"
     ]
    }
   ],
   "source": [
    "#Computes the inner product of two arrays\n",
    "\n",
    "array1 = np.array([1,2,3])\n",
    "array2 = np.array([4,5,6])\n",
    "\n",
    "print(np.inner(array1,array2))"
   ]
  },
  {
   "cell_type": "code",
   "execution_count": 16,
   "metadata": {},
   "outputs": [
    {
     "name": "stdout",
     "output_type": "stream",
     "text": [
      "1.4\n"
     ]
    }
   ],
   "source": [
    "#Compute the nth percentile of the NumPy array\n",
    "\n",
    "array = np.array([1,2,3,4,5])\n",
    "nth = 10\n",
    "print(np.percentile(array,nth))"
   ]
  },
  {
   "cell_type": "code",
   "execution_count": 24,
   "metadata": {},
   "outputs": [
    {
     "name": "stdout",
     "output_type": "stream",
     "text": [
      "[1 1 1 1]\n"
     ]
    }
   ],
   "source": [
    "#Calculate the n-th order discrete difference along the given axis\n",
    "\n",
    "array = np.array([1,2,3,4,5])\n",
    "nth = 1\n",
    "print(np.diff(array, nth))"
   ]
  },
  {
   "cell_type": "code",
   "execution_count": null,
   "metadata": {},
   "outputs": [],
   "source": []
  },
  {
   "cell_type": "code",
   "execution_count": 26,
   "metadata": {},
   "outputs": [
    {
     "name": "stdout",
     "output_type": "stream",
     "text": [
      "[4 6]\n"
     ]
    }
   ],
   "source": [
    "#Calculate the sum of all columns in a 2D NumPy array\n",
    "\n",
    "array = np.array([[1,2],[3,4]])\n",
    "print(np.sum(array, 0))"
   ]
  },
  {
   "cell_type": "code",
   "execution_count": 28,
   "metadata": {},
   "outputs": [
    {
     "name": "stdout",
     "output_type": "stream",
     "text": [
      "[2.5 3.5 4.5]\n"
     ]
    }
   ],
   "source": [
    "#Calculate average values of two given NumPy arrays\n",
    "\n",
    "array1 = np.array([1,2,3])\n",
    "array2 = np.array([4,5,6])\n",
    "\n",
    "print((array1 + array2) / 2)"
   ]
  },
  {
   "cell_type": "code",
   "execution_count": 30,
   "metadata": {},
   "outputs": [
    {
     "name": "stdout",
     "output_type": "stream",
     "text": [
      "[-1 -2 -3 -4 -5 -6 -7 -8 -9]\n"
     ]
    }
   ],
   "source": [
    "#How to compute numerical negative value for all elements in a given NumPy array?\n",
    "\n",
    "array = np.array([1,2,3,4,5,6,7,8,9])\n",
    "print(np.negative(array))"
   ]
  },
  {
   "cell_type": "code",
   "execution_count": 33,
   "metadata": {},
   "outputs": [
    {
     "name": "stdout",
     "output_type": "stream",
     "text": [
      "Floor: [2. 3. 4.]\n",
      "Ceiling: [3. 4. 5.]\n",
      "Trucated: [2. 3. 4.]\n"
     ]
    }
   ],
   "source": [
    "#How to get the floor, ceiling and truncated values of the elements of a numpy array?\n",
    "\n",
    "array = np.array([2.45, 3.65, 4.98])\n",
    "\n",
    "print('Floor:', np.floor(array))\n",
    "print('Ceiling:', np.ceil(array))\n",
    "print('Trucated:',np.trunc(array))"
   ]
  },
  {
   "cell_type": "code",
   "execution_count": 34,
   "metadata": {},
   "outputs": [
    {
     "name": "stdout",
     "output_type": "stream",
     "text": [
      "[2. 4. 5.]\n"
     ]
    }
   ],
   "source": [
    "#How to round elements of the NumPy array to the nearest integer?\n",
    "\n",
    "array = np.array([2.45, 3.65, 4.98])\n",
    "print(np.rint(array))\n"
   ]
  },
  {
   "cell_type": "code",
   "execution_count": 41,
   "metadata": {},
   "outputs": [
    {
     "name": "stdout",
     "output_type": "stream",
     "text": [
      "[[ 1.  3.  4.]\n",
      " [ 4.  6.  7.]\n",
      " [ 7. 39. 10.]]\n"
     ]
    }
   ],
   "source": [
    "#Find the round off the values of the given matrix\n",
    "\n",
    "matrix = np.matrix([[1.45, 2.65, 3.98],[4.45, 5.65, 6.98],[7.45, 38.65, 9.98]])\n",
    "print(np.round(matrix,0))"
   ]
  },
  {
   "cell_type": "code",
   "execution_count": 43,
   "metadata": {},
   "outputs": [
    {
     "name": "stdout",
     "output_type": "stream",
     "text": [
      "[1. 2. 3. 4. 5.]\n"
     ]
    }
   ],
   "source": [
    "#Determine the positive square-root of an array\n",
    "\n",
    "array = np.array([1,4,9,16,25])\n",
    "print(np.sqrt(array))"
   ]
  },
  {
   "cell_type": "code",
   "execution_count": 44,
   "metadata": {},
   "outputs": [
    {
     "name": "stdout",
     "output_type": "stream",
     "text": [
      "[[116.266  125.962  136.7084]\n",
      " [237.316  257.812  280.5284]\n",
      " [761.866  829.162  903.7484]]\n"
     ]
    }
   ],
   "source": [
    "#Evaluate Einstein’s summation convention of two multidimensional NumPy arrays\n",
    "\n",
    "matrix1 = np.matrix([[1.45, 2.65, 3.98],[4.45, 5.65, 6.98],[7.45, 38.65, 9.98]])\n",
    "matrix2 = np.matrix([[10.45, 11.65, 12.98],[13.45, 14.65, 15.98],[16.45, 17.65, 18.98]])\n",
    "\n",
    "print(np.einsum(\"mk,kn\", matrix1, matrix2))"
   ]
  }
 ],
 "metadata": {
  "kernelspec": {
   "display_name": "Python 3.9.12 ('base')",
   "language": "python",
   "name": "python3"
  },
  "language_info": {
   "codemirror_mode": {
    "name": "ipython",
    "version": 3
   },
   "file_extension": ".py",
   "mimetype": "text/x-python",
   "name": "python",
   "nbconvert_exporter": "python",
   "pygments_lexer": "ipython3",
   "version": "3.9.12"
  },
  "orig_nbformat": 4,
  "vscode": {
   "interpreter": {
    "hash": "3867dd0c25ae4009a5cdda78bdc01493f6e56033bc714ba4cc749160456480dc"
   }
  }
 },
 "nbformat": 4,
 "nbformat_minor": 2
}
