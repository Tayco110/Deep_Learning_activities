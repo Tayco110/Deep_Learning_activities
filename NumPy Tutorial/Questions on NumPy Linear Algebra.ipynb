{
 "cells": [
  {
   "cell_type": "code",
   "execution_count": 1,
   "metadata": {},
   "outputs": [],
   "source": [
    "import numpy as np"
   ]
  },
  {
   "cell_type": "code",
   "execution_count": 2,
   "metadata": {},
   "outputs": [
    {
     "name": "stdout",
     "output_type": "stream",
     "text": [
      "3.7416573867739413\n",
      "16.881943016134134\n"
     ]
    }
   ],
   "source": [
    "#Find a matrix or vector norm using NumPy\n",
    "\n",
    "array = np.array([1,2,3])\n",
    "matrix = np.matrix([[1,2,3],[4,5,6],[7,8,9]])\n",
    "\n",
    "print(np.linalg.norm(array))\n",
    "print(np.linalg.norm(matrix))"
   ]
  },
  {
   "cell_type": "code",
   "execution_count": 3,
   "metadata": {},
   "outputs": [
    {
     "name": "stdout",
     "output_type": "stream",
     "text": [
      "\n",
      "Q:\n",
      " [[-0.12309149  0.90453403  0.40824829]\n",
      " [-0.49236596  0.30151134 -0.81649658]\n",
      " [-0.86164044 -0.30151134  0.40824829]]\n",
      "\n",
      "R:\n",
      " [[-8.12403840e+00 -9.60113630e+00 -1.10782342e+01]\n",
      " [ 0.00000000e+00  9.04534034e-01  1.80906807e+00]\n",
      " [ 0.00000000e+00  0.00000000e+00 -1.77635684e-15]]\n"
     ]
    }
   ],
   "source": [
    "#Calculate the QR decomposition of a given matrix using NumPy\n",
    "\n",
    "matrix = np.matrix([[1,2,3],[4,5,6],[7,8,9]])\n",
    "\n",
    "Q, R = np.linalg.qr(matrix)\n",
    "print('\\nQ:\\n', Q)\n",
    "print('\\nR:\\n', R)"
   ]
  },
  {
   "cell_type": "code",
   "execution_count": 4,
   "metadata": {},
   "outputs": [
    {
     "name": "stdout",
     "output_type": "stream",
     "text": [
      "3.813147060626918e+16\n"
     ]
    }
   ],
   "source": [
    "#Compute the condition number of a given matrix using NumPy\n",
    "\n",
    "matrix = np.matrix([[1,2,3],[4,5,6],[7,8,9]])\n",
    "print(np.linalg.cond(matrix))"
   ]
  },
  {
   "cell_type": "code",
   "execution_count": 6,
   "metadata": {},
   "outputs": [
    {
     "name": "stdout",
     "output_type": "stream",
     "text": [
      "[ 1.61168440e+01 -1.11684397e+00 -4.22209278e-16]\n",
      "\n",
      "[[-0.23197069 -0.78583024  0.40824829]\n",
      " [-0.52532209 -0.08675134 -0.81649658]\n",
      " [-0.8186735   0.61232756  0.40824829]]\n"
     ]
    }
   ],
   "source": [
    "#Compute the eigenvalues and right eigenvectors of a given square array using NumPy?\n",
    "\n",
    "matrix = np.matrix([[1,2,3],[4,5,6],[7,8,9]])\n",
    "w, v = np.linalg.eig(matrix)\n",
    "\n",
    "print(w)\n",
    "print()\n",
    "print(v)"
   ]
  },
  {
   "cell_type": "code",
   "execution_count": 11,
   "metadata": {},
   "outputs": [
    {
     "name": "stdout",
     "output_type": "stream",
     "text": [
      "3.605551275463989\n"
     ]
    }
   ],
   "source": [
    "##Calculate the Euclidean distance using NumPy\n",
    "\n",
    "ponto1 = np.array([1,2,3])\n",
    "ponto2 = np.array([3,5,3])\n",
    "print(np.linalg.norm(ponto1 - ponto2))"
   ]
  },
  {
   "cell_type": "code",
   "execution_count": null,
   "metadata": {},
   "outputs": [],
   "source": []
  }
 ],
 "metadata": {
  "kernelspec": {
   "display_name": "Python 3.9.12 ('base')",
   "language": "python",
   "name": "python3"
  },
  "language_info": {
   "codemirror_mode": {
    "name": "ipython",
    "version": 3
   },
   "file_extension": ".py",
   "mimetype": "text/x-python",
   "name": "python",
   "nbconvert_exporter": "python",
   "pygments_lexer": "ipython3",
   "version": "3.9.12"
  },
  "orig_nbformat": 4,
  "vscode": {
   "interpreter": {
    "hash": "3867dd0c25ae4009a5cdda78bdc01493f6e56033bc714ba4cc749160456480dc"
   }
  }
 },
 "nbformat": 4,
 "nbformat_minor": 2
}
