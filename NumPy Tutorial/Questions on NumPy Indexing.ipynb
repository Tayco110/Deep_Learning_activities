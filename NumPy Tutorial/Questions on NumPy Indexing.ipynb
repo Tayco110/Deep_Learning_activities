{
 "cells": [
  {
   "cell_type": "code",
   "execution_count": 1,
   "metadata": {},
   "outputs": [],
   "source": [
    "import numpy as np"
   ]
  },
  {
   "cell_type": "code",
   "execution_count": 9,
   "metadata": {},
   "outputs": [
    {
     "name": "stdout",
     "output_type": "stream",
     "text": [
      "[0 2 0 4 0 6 0 8 0]\n"
     ]
    }
   ],
   "source": [
    "#Replace NumPy array elements that doesn’t satisfy the given condition\n",
    "array = np.array([1,2,3,4,5,6,7,8,9])\n",
    "#replace all the odd numbers to 0\n",
    "array[(array % 2) != 0] = 0\n",
    "print(array)"
   ]
  },
  {
   "cell_type": "code",
   "execution_count": 13,
   "metadata": {},
   "outputs": [
    {
     "name": "stdout",
     "output_type": "stream",
     "text": [
      "[0 2 4 6 8]\n"
     ]
    }
   ],
   "source": [
    "#Return the indices of elements where the given condition is satisfied\n",
    "\n",
    "array = np.array([1,2,3,4,5,6,7,8,9])\n",
    "index = np.where((array % 2) != 0)\n",
    "print(index[0])"
   ]
  },
  {
   "cell_type": "code",
   "execution_count": 60,
   "metadata": {},
   "outputs": [
    {
     "name": "stdout",
     "output_type": "stream",
     "text": [
      "[[1. 2. 6.]\n",
      " [4. 5. 6.]\n",
      " [7. 8. 6.]]\n"
     ]
    }
   ],
   "source": [
    "#Replace NaN values with average of columns\n",
    "\n",
    "array = np.array([[1,2,np.nan],[4,np.nan,6],[7,8,np.nan]])\n",
    "matrix_mean = np.nanmean(array, axis=0)\n",
    "index = np.where(np.isnan(array))\n",
    "array[index] = np.take(matrix_mean, index[1])\n",
    "print(array)"
   ]
  },
  {
   "cell_type": "code",
   "execution_count": 85,
   "metadata": {},
   "outputs": [
    {
     "name": "stdout",
     "output_type": "stream",
     "text": [
      "[1 0 3 0 5 0 7 0 9]\n"
     ]
    }
   ],
   "source": [
    "#Replace negative value with zero in numpy array\n",
    "\n",
    "array = np.array([1,-2,3,-4,5,-6,7,-8,9])\n",
    "array[array < 0] = 0\n",
    "print(array)"
   ]
  },
  {
   "cell_type": "code",
   "execution_count": 66,
   "metadata": {},
   "outputs": [
    {
     "name": "stdout",
     "output_type": "stream",
     "text": [
      "Valor do array no indice 0: 1\n",
      "Valor do array no indice 1: -2\n",
      "Valor do array no indice 2: 3\n",
      "Valor do array no indice 3: -4\n",
      "Valor do array no indice 4: 5\n",
      "Valor do array no indice 5: -6\n",
      "Valor do array no indice 6: 7\n",
      "Valor do array no indice 7: -8\n",
      "Valor do array no indice 8: 9\n"
     ]
    }
   ],
   "source": [
    "#How to get values of an NumPy array at certain index positions?\n",
    "array = np.array([1,-2,3,-4,5,-6,7,-8,9])\n",
    "\n",
    "for index in range(len(array)):\n",
    "    print(f\"Valor do array no indice {index}:\",array[index])"
   ]
  },
  {
   "cell_type": "code",
   "execution_count": 88,
   "metadata": {},
   "outputs": [
    {
     "name": "stdout",
     "output_type": "stream",
     "text": [
      "[1 3 5 7]\n"
     ]
    }
   ],
   "source": [
    "#Find indices of elements equal to zero in a NumPy array\n",
    "\n",
    "array = np.array([1,0,3,0,5,0,7,0,9])\n",
    "index = np.where(array == 0)\n",
    "print(index[0])"
   ]
  },
  {
   "cell_type": "code",
   "execution_count": 84,
   "metadata": {},
   "outputs": [
    {
     "name": "stdout",
     "output_type": "stream",
     "text": [
      "[[1.]\n",
      " [4.]\n",
      " [7.]]\n"
     ]
    }
   ],
   "source": [
    "#How to Remove columns in Numpy array that contains non-numeric values?\n",
    "array = np.array([[1,2,3],[4,np.nan,6],[7,8,np.nan]])\n",
    "print(array[:, ~np.isnan(array).any(0)])"
   ]
  },
  {
   "cell_type": "code",
   "execution_count": 86,
   "metadata": {},
   "outputs": [
    {
     "name": "stdout",
     "output_type": "stream",
     "text": [
      "[[1 2 3]\n",
      " [7 8 9]]\n"
     ]
    }
   ],
   "source": [
    "#How to access different rows of a multidimensional NumPy array?\n",
    "array = np.array([[1,2,3],[4,5,6],[7,8,9]])\n",
    "rows = array[[0,2]]\n",
    "print(rows)"
   ]
  },
  {
   "cell_type": "code",
   "execution_count": 94,
   "metadata": {},
   "outputs": [
    {
     "name": "stdout",
     "output_type": "stream",
     "text": [
      "As linhas com elementos maiores que 3 são:  [1 2]\n"
     ]
    }
   ],
   "source": [
    "#Get row numbers of NumPy array having element larger than X\n",
    "array = np.array([[1,2,3],[4,5,6],[7,8,9]])\n",
    "X = 3\n",
    "rows = np.where(array > X)\n",
    "print(f'As linhas com elementos maiores que {X} são: ',np.unique(rows[0]))"
   ]
  },
  {
   "cell_type": "code",
   "execution_count": 96,
   "metadata": {},
   "outputs": [
    {
     "name": "stdout",
     "output_type": "stream",
     "text": [
      "[[1 0 0]\n",
      " [0 1 0]\n",
      " [0 0 1]]\n"
     ]
    }
   ],
   "source": [
    "#Get filled the diagonals of NumPy array\n",
    "array = np.array([[0,0,0],[0,0,0],[0,0,0]])\n",
    "np.fill_diagonal(array,1)\n",
    "print(array)"
   ]
  },
  {
   "cell_type": "code",
   "execution_count": 99,
   "metadata": {},
   "outputs": [
    {
     "name": "stdout",
     "output_type": "stream",
     "text": [
      "O elemento está presente no array? True\n",
      "O elemento está presente no array? True\n",
      "O elemento está presente no array? True\n",
      "O elemento está presente no array? True\n",
      "O elemento está presente no array? False\n",
      "O elemento está presente no array? False\n"
     ]
    }
   ],
   "source": [
    "#Check elements present in the NumPy array\n",
    "array = np.array([[1,2,3],[4,5,6],[7,8,9]])\n",
    "tobeChecked = np.array([1,4,7,9,10,11])\n",
    "\n",
    "for element in tobeChecked:\n",
    "    print(f'O elemento {element} está presente no array?',element in array)"
   ]
  }
 ],
 "metadata": {
  "kernelspec": {
   "display_name": "Python 3.9.12 ('base')",
   "language": "python",
   "name": "python3"
  },
  "language_info": {
   "codemirror_mode": {
    "name": "ipython",
    "version": 3
   },
   "file_extension": ".py",
   "mimetype": "text/x-python",
   "name": "python",
   "nbconvert_exporter": "python",
   "pygments_lexer": "ipython3",
   "version": "3.9.12"
  },
  "orig_nbformat": 4,
  "vscode": {
   "interpreter": {
    "hash": "3867dd0c25ae4009a5cdda78bdc01493f6e56033bc714ba4cc749160456480dc"
   }
  }
 },
 "nbformat": 4,
 "nbformat_minor": 2
}
