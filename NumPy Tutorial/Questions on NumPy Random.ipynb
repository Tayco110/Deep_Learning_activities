{
 "cells": [
  {
   "cell_type": "code",
   "execution_count": 48,
   "metadata": {},
   "outputs": [],
   "source": [
    "import numpy as np\n",
    "import random"
   ]
  },
  {
   "cell_type": "code",
   "execution_count": 49,
   "metadata": {},
   "outputs": [
    {
     "name": "stdout",
     "output_type": "stream",
     "text": [
      "[[0.40552623 0.11067192 0.18015291 0.66283185 0.55539689]]\n"
     ]
    }
   ],
   "source": [
    "#Create a Numpy array with random values\n",
    "\n",
    "array = np.random.rand(1,5)\n",
    "print(array)"
   ]
  },
  {
   "cell_type": "code",
   "execution_count": 50,
   "metadata": {},
   "outputs": [
    {
     "name": "stdout",
     "output_type": "stream",
     "text": [
      "5\n"
     ]
    }
   ],
   "source": [
    "#How to choose elements from the list with different probability using NumPy?\n",
    "\n",
    "numbers = [1,2,3,4,5,6,7,8,9]\n",
    "choice = np.random.choice(numbers)\n",
    "print(choice)"
   ]
  },
  {
   "cell_type": "code",
   "execution_count": 51,
   "metadata": {},
   "outputs": [
    {
     "name": "stdout",
     "output_type": "stream",
     "text": [
      "[1, 6, 5]\n"
     ]
    }
   ],
   "source": [
    "#How to get weighted random choice in Python\n",
    "\n",
    "numbers = [1,2,3,4,5,6,7,8,9]\n",
    "randomlist = random.choices(numbers,(1, 1, 5, 4, 5, 5, 8, 2, 1),k = 3)\n",
    "print(randomlist)"
   ]
  },
  {
   "cell_type": "code",
   "execution_count": 52,
   "metadata": {},
   "outputs": [
    {
     "name": "stdout",
     "output_type": "stream",
     "text": [
      "[0.85393056 0.22133474 0.97266006 0.6762673  0.99443292]\n"
     ]
    }
   ],
   "source": [
    "#Generate Random Numbers From The Uniform Distribution using NumPy\n",
    "\n",
    "print(np.random.uniform(size = 5))"
   ]
  },
  {
   "cell_type": "code",
   "execution_count": 53,
   "metadata": {},
   "outputs": [
    {
     "name": "stdout",
     "output_type": "stream",
     "text": [
      "[1 2 1 1 2 2 1 2 4 2]\n"
     ]
    }
   ],
   "source": [
    "#Get Random Elements form geometric distribution\n",
    "\n",
    "print(np.random.geometric(0.5, 10))"
   ]
  },
  {
   "cell_type": "code",
   "execution_count": 54,
   "metadata": {},
   "outputs": [
    {
     "name": "stdout",
     "output_type": "stream",
     "text": [
      "[-4.6632012   9.21853576 -7.24796459  5.04482175 -3.00660931]\n"
     ]
    }
   ],
   "source": [
    "#Get Random elements from Laplace distribution\n",
    "\n",
    "print(np.random.laplace(0.5,10,5))"
   ]
  },
  {
   "cell_type": "code",
   "execution_count": 55,
   "metadata": {},
   "outputs": [
    {
     "name": "stdout",
     "output_type": "stream",
     "text": [
      "[[0.15043445 0.14493686 0.27048649]\n",
      " [0.29880207 0.9879139  0.50216275]\n",
      " [0.77792523 0.7868318  0.32641036]]\n"
     ]
    }
   ],
   "source": [
    "#Return a Matrix of random values from a uniform distribution\n",
    "\n",
    "matrix = np.matrix(np.random.uniform(size=(3,3)))\n",
    "print(matrix)"
   ]
  },
  {
   "cell_type": "code",
   "execution_count": 56,
   "metadata": {},
   "outputs": [
    {
     "name": "stdout",
     "output_type": "stream",
     "text": [
      "[[ 0.40161008  0.22862179  0.28928064]\n",
      " [-1.99323949  0.0648166  -2.13225051]\n",
      " [ 0.59553997 -0.52892482 -0.92797083]]\n"
     ]
    }
   ],
   "source": [
    "#Return a Matrix of random values from a Gaussian distribution\n",
    "\n",
    "matrix = np.random.normal(size=(3,3))\n",
    "print(matrix)"
   ]
  }
 ],
 "metadata": {
  "kernelspec": {
   "display_name": "Python 3.9.12 ('base')",
   "language": "python",
   "name": "python3"
  },
  "language_info": {
   "codemirror_mode": {
    "name": "ipython",
    "version": 3
   },
   "file_extension": ".py",
   "mimetype": "text/x-python",
   "name": "python",
   "nbconvert_exporter": "python",
   "pygments_lexer": "ipython3",
   "version": "3.9.12"
  },
  "orig_nbformat": 4,
  "vscode": {
   "interpreter": {
    "hash": "3867dd0c25ae4009a5cdda78bdc01493f6e56033bc714ba4cc749160456480dc"
   }
  }
 },
 "nbformat": 4,
 "nbformat_minor": 2
}
