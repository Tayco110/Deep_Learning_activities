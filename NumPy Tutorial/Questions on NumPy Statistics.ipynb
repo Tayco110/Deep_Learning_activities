{
 "cells": [
  {
   "cell_type": "code",
   "execution_count": 20,
   "metadata": {},
   "outputs": [],
   "source": [
    "import numpy as np"
   ]
  },
  {
   "cell_type": "code",
   "execution_count": 21,
   "metadata": {},
   "outputs": [
    {
     "name": "stdout",
     "output_type": "stream",
     "text": [
      "3.0\n"
     ]
    }
   ],
   "source": [
    "#Compute the median of the flattened NumPy array\n",
    "\n",
    "array = np.array([1,2,3,4,5])\n",
    "print(np.median(array))"
   ]
  },
  {
   "cell_type": "code",
   "execution_count": 22,
   "metadata": {},
   "outputs": [
    {
     "name": "stdout",
     "output_type": "stream",
     "text": [
      "[2.0, 5.0, 8.0]\n"
     ]
    }
   ],
   "source": [
    "#Find Mean of a List of Numpy Array\n",
    "\n",
    "list = (np.array([1,2,3]),np.array([4,5,6]),np.array([7,8,9]))\n",
    "result = []\n",
    "for array in list:\n",
    "    result.append(np.mean(array))\n",
    "print(result)"
   ]
  },
  {
   "cell_type": "code",
   "execution_count": 23,
   "metadata": {},
   "outputs": [
    {
     "name": "stdout",
     "output_type": "stream",
     "text": [
      "2.5\n"
     ]
    }
   ],
   "source": [
    "#Calculate the mean of array ignoring the NaN value\n",
    "\n",
    "array = np.array([1,2,np.nan,3,4,np.nan])\n",
    "print(np.nanmean(array))"
   ]
  },
  {
   "cell_type": "code",
   "execution_count": 24,
   "metadata": {},
   "outputs": [
    {
     "name": "stdout",
     "output_type": "stream",
     "text": [
      "5.0\n"
     ]
    }
   ],
   "source": [
    "#Get the mean value from given matrix\n",
    "\n",
    "matrix = np.matrix([[1,2,3],[4,5,6],[7,8,9]])\n",
    "print(matrix.mean())"
   ]
  },
  {
   "cell_type": "code",
   "execution_count": 25,
   "metadata": {},
   "outputs": [
    {
     "name": "stdout",
     "output_type": "stream",
     "text": [
      "2.0\n"
     ]
    }
   ],
   "source": [
    "#Compute the variance of the NumPy array\n",
    "\n",
    "array = np.array([1,2,3,4,5])\n",
    "print(np.var(array))"
   ]
  },
  {
   "cell_type": "code",
   "execution_count": 26,
   "metadata": {},
   "outputs": [
    {
     "name": "stdout",
     "output_type": "stream",
     "text": [
      "1.4142135623730951\n"
     ]
    }
   ],
   "source": [
    "#Compute the standard deviation of the NumPy array\n",
    "\n",
    "array = np.array([1,2,3,4,5])\n",
    "print(np.std(array))"
   ]
  },
  {
   "cell_type": "code",
   "execution_count": 27,
   "metadata": {},
   "outputs": [
    {
     "name": "stdout",
     "output_type": "stream",
     "text": [
      "[[1. 1.]\n",
      " [1. 1.]]\n"
     ]
    }
   ],
   "source": [
    "#Compute pearson product-moment correlation coefficients of two given NumPy arrays\n",
    "\n",
    "array1 = np.array([1,2,3,4,5])\n",
    "array2 = np.array([6,7,8,9,10])\n",
    "print(np.corrcoef(array1,array2))"
   ]
  },
  {
   "cell_type": "code",
   "execution_count": 28,
   "metadata": {},
   "outputs": [
    {
     "name": "stdout",
     "output_type": "stream",
     "text": [
      "Mean of Row 1 is 2.0\n",
      "Mean of Row 2 is 5.0\n",
      "Mean of Row 3 is 8.0\n",
      "Mean of column 1 is 4.0\n",
      "Mean of column 2 is 5.0\n",
      "Mean of column 3 is 6.0\n"
     ]
    }
   ],
   "source": [
    "#Calculate the mean across dimension in a 2D NumPy array\n",
    "\n",
    "arr = np.array([[1, 2, 3], [4, 5, 6], [7, 8, 9]])\n",
    "  \n",
    "row_mean = np.mean(arr, axis=1)\n",
    "row1_mean = row_mean[0]\n",
    "print(\"Mean of Row 1 is\", row1_mean)\n",
    "row2_mean = row_mean[1]\n",
    "print(\"Mean of Row 2 is\", row2_mean)\n",
    "row3_mean = row_mean[2]\n",
    "print(\"Mean of Row 3 is\", row3_mean)\n",
    "  \n",
    "column_mean = np.mean(arr, axis=0)\n",
    "column1_mean = column_mean[0]\n",
    "print(\"Mean of column 1 is\", column1_mean)\n",
    "column2_mean = column_mean[1]\n",
    "print(\"Mean of column 2 is\", column2_mean)\n",
    "column3_mean = column_mean[2]\n",
    "print(\"Mean of column 3 is\", column3_mean)\n"
   ]
  },
  {
   "cell_type": "code",
   "execution_count": 29,
   "metadata": {},
   "outputs": [
    {
     "name": "stdout",
     "output_type": "stream",
     "text": [
      "Average: 3.0\n",
      "Variance: 2.0\n",
      "Std Deviation: 1.4142135623730951\n"
     ]
    }
   ],
   "source": [
    "#Calculate the average, variance and standard deviation in Python using NumPy\n",
    "\n",
    "array = np.array([1,2,3,4,5])\n",
    "\n",
    "print('Average:', np.average(array))\n",
    "print('Variance:', np.var(array))\n",
    "print('Std Deviation:',np.std(array))"
   ]
  },
  {
   "cell_type": "code",
   "execution_count": 30,
   "metadata": {},
   "outputs": [
    {
     "name": "stdout",
     "output_type": "stream",
     "text": [
      "[1 2 3 4 5]\n"
     ]
    }
   ],
   "source": [
    "#Describe a NumPy Array in Python\n",
    "\n",
    "array = np.array([1,2,3,4,5])\n",
    "print(array)"
   ]
  }
 ],
 "metadata": {
  "kernelspec": {
   "display_name": "Python 3.9.12 ('base')",
   "language": "python",
   "name": "python3"
  },
  "language_info": {
   "codemirror_mode": {
    "name": "ipython",
    "version": 3
   },
   "file_extension": ".py",
   "mimetype": "text/x-python",
   "name": "python",
   "nbconvert_exporter": "python",
   "pygments_lexer": "ipython3",
   "version": "3.9.12"
  },
  "orig_nbformat": 4,
  "vscode": {
   "interpreter": {
    "hash": "3867dd0c25ae4009a5cdda78bdc01493f6e56033bc714ba4cc749160456480dc"
   }
  }
 },
 "nbformat": 4,
 "nbformat_minor": 2
}
