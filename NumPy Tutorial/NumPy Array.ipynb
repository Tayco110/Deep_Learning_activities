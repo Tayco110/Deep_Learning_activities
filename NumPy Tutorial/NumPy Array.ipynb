{
  "nbformat": 4,
  "nbformat_minor": 0,
  "metadata": {
    "colab": {
      "name": "PDI - Atividade 1",
      "provenance": []
    },
    "kernelspec": {
      "name": "python3",
      "display_name": "Python 3"
    },
    "language_info": {
      "name": "python"
    }
  },
  "cells": [
    {
      "cell_type": "code",
      "execution_count": 1,
      "metadata": {
        "id": "kb9OjD3Gkn6r"
      },
      "outputs": [],
      "source": [
        "import numpy as np"
      ]
    },
    {
      "cell_type": "markdown",
      "source": [
        "#NumPy Array"
      ],
      "metadata": {
        "id": "e23_t9yGzCJP"
      }
    },
    {
      "cell_type": "code",
      "source": [
        "#How to create an empty and a full NumPy array?\n",
        "\n",
        "empty = np.empty(3)\n",
        "print('Array vazio preenchido com lixo na memória:', empty)\n",
        "full_10 = np.full(3,10)\n",
        "print('Array preenchido com 10 em todas as posições:',full_10)"
      ],
      "metadata": {
        "colab": {
          "base_uri": "https://localhost:8080/"
        },
        "id": "DEjVcRQMzK4Y",
        "outputId": "7be60e5a-84fa-47bf-a94d-5522d16f2dff"
      },
      "execution_count": 13,
      "outputs": [
        {
          "output_type": "stream",
          "name": "stdout",
          "text": [
            "Array vazio preenchido com lixo na memória: [0.75 0.75 0.  ]\n",
            "Array preenchido com 10 em todas as posições: [10 10 10]\n"
          ]
        }
      ]
    },
    {
      "cell_type": "code",
      "source": [
        "#Create a Numpy array filled with all zeros\n",
        "\n",
        "zeros = np.zeros(3)\n",
        "print('Array preenchido com zeros em todas a posições:', zeros)"
      ],
      "metadata": {
        "colab": {
          "base_uri": "https://localhost:8080/"
        },
        "id": "HiCPi2St0gJR",
        "outputId": "c9eb6941-4dec-403e-c459-cd0e8049295b"
      },
      "execution_count": 14,
      "outputs": [
        {
          "output_type": "stream",
          "name": "stdout",
          "text": [
            "Array preenchido com zeros em todas a posições: [0. 0. 0.]\n"
          ]
        }
      ]
    },
    {
      "cell_type": "code",
      "source": [
        "#Create a Numpy array filled with all ones\n",
        "\n",
        "ones = np.ones(3)\n",
        "print('Array preenchido com uns em todas a posições:', ones)"
      ],
      "metadata": {
        "colab": {
          "base_uri": "https://localhost:8080/"
        },
        "id": "p4lp5wTn0vjc",
        "outputId": "4b3d3730-3496-4506-f930-a6b85be57217"
      },
      "execution_count": 15,
      "outputs": [
        {
          "output_type": "stream",
          "name": "stdout",
          "text": [
            "Array preenchido com uns em todas a posições: [1. 1. 1.]\n"
          ]
        }
      ]
    },
    {
      "cell_type": "code",
      "source": [
        "#Check whether a Numpy array contains a specified row\n",
        "\n",
        "array = np.array([[1, 2, 3],[4, 5, 6], [7, 8, 9],[10, 11, 11]])\n",
        "row = [1,2,3]\n",
        "print('A linha existe?',row in array.tolist())"
      ],
      "metadata": {
        "colab": {
          "base_uri": "https://localhost:8080/"
        },
        "id": "AIIDyYqE1Hy2",
        "outputId": "164abbf5-a4bf-42bf-e16c-4f248053fa17"
      },
      "execution_count": 18,
      "outputs": [
        {
          "output_type": "stream",
          "name": "stdout",
          "text": [
            "A linha existe? True\n"
          ]
        }
      ]
    },
    {
      "cell_type": "code",
      "source": [
        "#How to Remove rows in Numpy array that contains non-numeric values?\n",
        "\n",
        "array = np.array([[1, 2, 3],[4, 5, 6], [7, 8, 9],[np.nan, np.nan, np.nan]])\n",
        "print(array[~np.isnan(array).any(axis=1)])"
      ],
      "metadata": {
        "colab": {
          "base_uri": "https://localhost:8080/"
        },
        "id": "SpsXXLtq3Ztg",
        "outputId": "3503513e-512b-453d-c9e8-1288fa33e34c"
      },
      "execution_count": 24,
      "outputs": [
        {
          "output_type": "stream",
          "name": "stdout",
          "text": [
            "[[1. 2. 3.]\n",
            " [4. 5. 6.]\n",
            " [7. 8. 9.]]\n"
          ]
        }
      ]
    },
    {
      "cell_type": "code",
      "source": [
        "#Remove single-dimensional entries from the shape of an array\n",
        "\n",
        "array = np.array([[[1],[2]],[[3],[4]]])\n",
        "print(array.shape)\n",
        "\n",
        "print(np.squeeze(array))\n",
        "print(np.squeeze(array).shape)"
      ],
      "metadata": {
        "colab": {
          "base_uri": "https://localhost:8080/"
        },
        "id": "GA51NACF5Hcl",
        "outputId": "57b057b4-5d3d-47b6-8749-b6e9f279b2f5"
      },
      "execution_count": 34,
      "outputs": [
        {
          "output_type": "stream",
          "name": "stdout",
          "text": [
            "(2, 2, 1)\n",
            "[[1 2]\n",
            " [3 4]]\n",
            "(2, 2)\n"
          ]
        }
      ]
    },
    {
      "cell_type": "code",
      "source": [
        "#Find the number of occurrences of a sequence in a NumPy array\n",
        "\n",
        "array = [[2,8,9,4],[9,4,9,4],[4,5,9,7],[2,9,4,3]]\n",
        "print(repr(array).count(\"9, 4\"))"
      ],
      "metadata": {
        "colab": {
          "base_uri": "https://localhost:8080/"
        },
        "id": "QexSAVek9X7O",
        "outputId": "fd998763-2600-4a0d-83f1-b723874daa1d"
      },
      "execution_count": 69,
      "outputs": [
        {
          "output_type": "stream",
          "name": "stdout",
          "text": [
            "4\n"
          ]
        }
      ]
    },
    {
      "cell_type": "code",
      "source": [
        "#Find the most frequent value in a NumPy array\n",
        "\n",
        "array = np.array([1,2,3,4,5,6,7,8,9,10,1])\n",
        "print(np.bincount(array).argmax())"
      ],
      "metadata": {
        "colab": {
          "base_uri": "https://localhost:8080/"
        },
        "id": "J9MnkcYKD7bJ",
        "outputId": "91982d77-65f6-4a4f-a181-4393f6d99840"
      },
      "execution_count": 70,
      "outputs": [
        {
          "output_type": "stream",
          "name": "stdout",
          "text": [
            "1\n"
          ]
        }
      ]
    },
    {
      "cell_type": "code",
      "source": [
        "#Combining a one and a two-dimensional NumPy Array\n",
        "\n",
        "array_1d = np.array([1,2,3])\n",
        "array_2d = np.array([[4,5,6],[7,8,9]])\n",
        "\n",
        "result = np.vstack((array_1d, array_2d))\n",
        "print(result)"
      ],
      "metadata": {
        "colab": {
          "base_uri": "https://localhost:8080/"
        },
        "id": "MktRxcfqEUlx",
        "outputId": "a1967864-bea8-498e-9aeb-93d097b1eba4"
      },
      "execution_count": 75,
      "outputs": [
        {
          "output_type": "stream",
          "name": "stdout",
          "text": [
            "[[1 2 3]\n",
            " [4 5 6]\n",
            " [7 8 9]]\n"
          ]
        }
      ]
    },
    {
      "cell_type": "code",
      "source": [
        "#How to build an array of all combinations of two NumPy arrays?\n",
        "\n",
        "array1 = np.array([0,1,2,3,4])\n",
        "array2 = np.array([5,6,7,8,9])\n",
        "\n",
        "comb = np.array(np.meshgrid(array1,array2)).T\n",
        "print(comb)"
      ],
      "metadata": {
        "colab": {
          "base_uri": "https://localhost:8080/"
        },
        "id": "bSKizDNVGc-T",
        "outputId": "9c1691b8-a2f6-4850-f2c2-a4b231e72706"
      },
      "execution_count": 76,
      "outputs": [
        {
          "output_type": "stream",
          "name": "stdout",
          "text": [
            "[[[0 5]\n",
            "  [0 6]\n",
            "  [0 7]\n",
            "  [0 8]\n",
            "  [0 9]]\n",
            "\n",
            " [[1 5]\n",
            "  [1 6]\n",
            "  [1 7]\n",
            "  [1 8]\n",
            "  [1 9]]\n",
            "\n",
            " [[2 5]\n",
            "  [2 6]\n",
            "  [2 7]\n",
            "  [2 8]\n",
            "  [2 9]]\n",
            "\n",
            " [[3 5]\n",
            "  [3 6]\n",
            "  [3 7]\n",
            "  [3 8]\n",
            "  [3 9]]\n",
            "\n",
            " [[4 5]\n",
            "  [4 6]\n",
            "  [4 7]\n",
            "  [4 8]\n",
            "  [4 9]]]\n"
          ]
        }
      ]
    },
    {
      "cell_type": "code",
      "source": [
        "#How to add a border around a NumPy array?\n",
        "\n",
        "array = np.array([[1,1,1],[1,1,1],[1,1,1]])\n",
        "print(np.pad(array, 1))"
      ],
      "metadata": {
        "colab": {
          "base_uri": "https://localhost:8080/"
        },
        "id": "b7kFRSnUHjD5",
        "outputId": "4b05d40a-2af7-48f8-ac9d-41ea3963ad72"
      },
      "execution_count": 83,
      "outputs": [
        {
          "output_type": "stream",
          "name": "stdout",
          "text": [
            "[[0 0 0 0 0]\n",
            " [0 1 1 1 0]\n",
            " [0 1 1 1 0]\n",
            " [0 1 1 1 0]\n",
            " [0 0 0 0 0]]\n"
          ]
        }
      ]
    },
    {
      "cell_type": "code",
      "source": [
        "#How to compare two NumPy arrays?\n",
        "\n",
        "array1 = np.array([0,1,2,3,4])\n",
        "array2 = np.array([5,6,7,8,9])\n",
        "\n",
        "print(np.array_equal(array1,array2))"
      ],
      "metadata": {
        "colab": {
          "base_uri": "https://localhost:8080/"
        },
        "id": "HhyP2McTI3To",
        "outputId": "9be26ea8-fb54-49f0-c538-d85014610d3e"
      },
      "execution_count": 86,
      "outputs": [
        {
          "output_type": "stream",
          "name": "stdout",
          "text": [
            "False\n"
          ]
        }
      ]
    },
    {
      "cell_type": "code",
      "source": [
        "#How to check whether specified values are present in NumPy array?\n",
        "\n",
        "array = np.array([0,1,2,3,4])\n",
        "print(0 in array)\n",
        "print(5 in array)"
      ],
      "metadata": {
        "colab": {
          "base_uri": "https://localhost:8080/"
        },
        "id": "khXcsqPfJxYM",
        "outputId": "6f7a9d38-888b-4615-d506-ec154ee64389"
      },
      "execution_count": 87,
      "outputs": [
        {
          "output_type": "stream",
          "name": "stdout",
          "text": [
            "True\n",
            "False\n"
          ]
        }
      ]
    },
    {
      "cell_type": "code",
      "source": [
        "# How to get all 2D diagonals of a 3D NumPy array?\n",
        "\n",
        "array = np.arange(27).reshape(3,3,3)\n",
        "diag = np.diagonal(array,axis1=1,axis2=2)\n",
        "\n",
        "print(array)\n",
        "print(diag)"
      ],
      "metadata": {
        "colab": {
          "base_uri": "https://localhost:8080/"
        },
        "id": "tl6f3jq5Lypl",
        "outputId": "8e6c7396-7142-4e6b-9bc1-6ef0dd1392b2"
      },
      "execution_count": 93,
      "outputs": [
        {
          "output_type": "stream",
          "name": "stdout",
          "text": [
            "[[[ 0  1  2]\n",
            "  [ 3  4  5]\n",
            "  [ 6  7  8]]\n",
            "\n",
            " [[ 9 10 11]\n",
            "  [12 13 14]\n",
            "  [15 16 17]]\n",
            "\n",
            " [[18 19 20]\n",
            "  [21 22 23]\n",
            "  [24 25 26]]]\n",
            "[[ 0  4  8]\n",
            " [ 9 13 17]\n",
            " [18 22 26]]\n"
          ]
        }
      ]
    },
    {
      "cell_type": "code",
      "source": [
        "#Flatten a Matrix in Python using NumPy\n",
        "\n",
        "array = np.matrix([[1,2],[3,4]])\n",
        "flatten = array.flatten()\n",
        "print(flatten)"
      ],
      "metadata": {
        "colab": {
          "base_uri": "https://localhost:8080/"
        },
        "id": "jbei4M1NONCc",
        "outputId": "2a3246f1-7574-4954-b0c7-2359e264ee38"
      },
      "execution_count": 98,
      "outputs": [
        {
          "output_type": "stream",
          "name": "stdout",
          "text": [
            "[[1 2 3 4]]\n"
          ]
        }
      ]
    },
    {
      "cell_type": "code",
      "source": [
        "#Flatten a 2d numpy array into 1d array\n",
        "\n",
        "array = np.array([[1,2],[3,4]])\n",
        "flatten = array.flatten()\n",
        "print(flatten)"
      ],
      "metadata": {
        "colab": {
          "base_uri": "https://localhost:8080/"
        },
        "id": "F3Mdr1EIO2hR",
        "outputId": "2e41e678-8482-4814-d8c7-19cc910efecd"
      },
      "execution_count": 99,
      "outputs": [
        {
          "output_type": "stream",
          "name": "stdout",
          "text": [
            "[1 2 3 4]\n"
          ]
        }
      ]
    },
    {
      "cell_type": "code",
      "source": [
        "#Move axes of an array to new positions\n",
        "\n",
        "array = np.array([[1,2,3]])\n",
        "print(np.swapaxes(array,0,1))"
      ],
      "metadata": {
        "colab": {
          "base_uri": "https://localhost:8080/"
        },
        "id": "1F3i7heiPd0B",
        "outputId": "05ed4e42-34fd-4a3c-ec5e-1542f00798bd"
      },
      "execution_count": 120,
      "outputs": [
        {
          "output_type": "stream",
          "name": "stdout",
          "text": [
            "[[1]\n",
            " [2]\n",
            " [3]]\n"
          ]
        }
      ]
    },
    {
      "cell_type": "code",
      "source": [
        "#NumPy – Fibonacci Series using Binet Formula\n",
        "\n",
        "array = np.arange(0,10,1)\n",
        "length = len(array)\n",
        "r5 = np.sqrt(5)\n",
        "alpha = (1+r5)/2\n",
        "beta = (1-r5)/2\n",
        "Fibn =  np.rint(((alpha**array)-(beta**array))/r5)\n",
        "print(Fibn)"
      ],
      "metadata": {
        "colab": {
          "base_uri": "https://localhost:8080/"
        },
        "id": "sdmh96ARSgQo",
        "outputId": "64bbe4ef-f4ad-4f09-e567-0ac9f0e9374c"
      },
      "execution_count": 124,
      "outputs": [
        {
          "output_type": "stream",
          "name": "stdout",
          "text": [
            "[ 0.  1.  1.  2.  3.  5.  8. 13. 21. 34.]\n"
          ]
        }
      ]
    },
    {
      "cell_type": "code",
      "source": [
        "#Counts the number of non-zero values in the array\n",
        "\n",
        "array = np.array([0,1,2,3,4,0,6,7,8,0])\n",
        "print(np.count_nonzero(array))"
      ],
      "metadata": {
        "colab": {
          "base_uri": "https://localhost:8080/"
        },
        "id": "88H1eV7TT2qp",
        "outputId": "8e20af0e-7a61-4bb7-8c81-564604ef328a"
      },
      "execution_count": 126,
      "outputs": [
        {
          "output_type": "stream",
          "name": "stdout",
          "text": [
            "7\n"
          ]
        }
      ]
    },
    {
      "cell_type": "code",
      "source": [
        "#Count the number of elements along a given axis\n",
        "\n",
        "array = np.array([[2,8,9,4],[9,4,9,4],[4,5,9,7],[2,9,4,3]])\n",
        "print('Numero de elementos na primeira linha:',np.size(array[3]))"
      ],
      "metadata": {
        "colab": {
          "base_uri": "https://localhost:8080/"
        },
        "id": "8-EwAzY-UXzU",
        "outputId": "72203a5f-31e1-4bed-ff33-42f896915d08"
      },
      "execution_count": 139,
      "outputs": [
        {
          "output_type": "stream",
          "name": "stdout",
          "text": [
            "Numero de elementos na primeira linha: 4\n"
          ]
        }
      ]
    },
    {
      "cell_type": "code",
      "source": [
        "#Trim the leading and/or trailing zeros from a 1-D array\n",
        "\n",
        "array = np.array([0,0,0,1,2,3,4,0,0,0])\n",
        "print(np.trim_zeros(array))"
      ],
      "metadata": {
        "colab": {
          "base_uri": "https://localhost:8080/"
        },
        "id": "h9-zakETWLal",
        "outputId": "10caf233-51d5-4b71-cb8d-54740ed20759"
      },
      "execution_count": 135,
      "outputs": [
        {
          "output_type": "stream",
          "name": "stdout",
          "text": [
            "[1 2 3 4]\n"
          ]
        }
      ]
    },
    {
      "cell_type": "code",
      "source": [
        "#Change data type of given numpy array\n",
        "\n",
        "array = np.array([1.1, 2.2, 3.3, 4.4, 5.5, 6.6])\n",
        "print(array.astype(int))"
      ],
      "metadata": {
        "colab": {
          "base_uri": "https://localhost:8080/"
        },
        "id": "KSyUZCB4XCRT",
        "outputId": "f48a2826-618a-439b-c903-7c85d7b032fd"
      },
      "execution_count": 141,
      "outputs": [
        {
          "output_type": "stream",
          "name": "stdout",
          "text": [
            "[1 2 3 4 5 6]\n"
          ]
        }
      ]
    },
    {
      "cell_type": "code",
      "source": [
        "#Reverse a numpy array\n",
        "\n",
        "array = np.array([1, 2, 3, 4, 5, 6])\n",
        "print(np.flip(array))"
      ],
      "metadata": {
        "colab": {
          "base_uri": "https://localhost:8080/"
        },
        "id": "HkBNc65yY8ad",
        "outputId": "3b472693-cce8-4aec-bede-dd95ac7657d6"
      },
      "execution_count": 145,
      "outputs": [
        {
          "output_type": "stream",
          "name": "stdout",
          "text": [
            "[6 5 4 3 2 1]\n"
          ]
        }
      ]
    },
    {
      "cell_type": "code",
      "source": [
        "#How to make a NumPy array read-only?\n",
        "\n",
        "array = np.array([1, 2, 3, 4, 5, 6])\n",
        "array.setflags(write=False)\n",
        "\n",
        "print(array[2])\n",
        "array[2] = 4"
      ],
      "metadata": {
        "colab": {
          "base_uri": "https://localhost:8080/",
          "height": 217
        },
        "id": "Xck1gakgZy6y",
        "outputId": "4ac4300a-cce2-4d62-ebe5-c7de9af626b9"
      },
      "execution_count": 154,
      "outputs": [
        {
          "output_type": "stream",
          "name": "stdout",
          "text": [
            "3\n"
          ]
        },
        {
          "output_type": "error",
          "ename": "ValueError",
          "evalue": "ignored",
          "traceback": [
            "\u001b[0;31m---------------------------------------------------------------------------\u001b[0m",
            "\u001b[0;31mValueError\u001b[0m                                Traceback (most recent call last)",
            "\u001b[0;32m<ipython-input-154-0d2769be10bd>\u001b[0m in \u001b[0;36m<module>\u001b[0;34m\u001b[0m\n\u001b[1;32m      5\u001b[0m \u001b[0;34m\u001b[0m\u001b[0m\n\u001b[1;32m      6\u001b[0m \u001b[0mprint\u001b[0m\u001b[0;34m(\u001b[0m\u001b[0marray\u001b[0m\u001b[0;34m[\u001b[0m\u001b[0;36m2\u001b[0m\u001b[0;34m]\u001b[0m\u001b[0;34m)\u001b[0m\u001b[0;34m\u001b[0m\u001b[0;34m\u001b[0m\u001b[0m\n\u001b[0;32m----> 7\u001b[0;31m \u001b[0marray\u001b[0m\u001b[0;34m[\u001b[0m\u001b[0;36m2\u001b[0m\u001b[0;34m]\u001b[0m \u001b[0;34m=\u001b[0m \u001b[0;36m4\u001b[0m\u001b[0;34m\u001b[0m\u001b[0;34m\u001b[0m\u001b[0m\n\u001b[0m",
            "\u001b[0;31mValueError\u001b[0m: assignment destination is read-only"
          ]
        }
      ]
    }
  ]
}
