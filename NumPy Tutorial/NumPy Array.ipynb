{
  "cells": [
    {
      "cell_type": "code",
      "execution_count": 2,
      "metadata": {
        "id": "kb9OjD3Gkn6r"
      },
      "outputs": [],
      "source": [
        "import numpy as np"
      ]
    },
    {
      "cell_type": "markdown",
      "metadata": {
        "id": "e23_t9yGzCJP"
      },
      "source": [
        "#NumPy Array"
      ]
    },
    {
      "cell_type": "code",
      "execution_count": 3,
      "metadata": {
        "colab": {
          "base_uri": "https://localhost:8080/"
        },
        "id": "DEjVcRQMzK4Y",
        "outputId": "7be60e5a-84fa-47bf-a94d-5522d16f2dff"
      },
      "outputs": [
        {
          "name": "stdout",
          "output_type": "stream",
          "text": [
            "Array vazio preenchido com lixo na memória: [-5.97916626e-302 -2.56901096e-292 -1.10380211e-282]\n",
            "Array preenchido com 10 em todas as posições: [10 10 10]\n"
          ]
        }
      ],
      "source": [
        "#How to create an empty and a full NumPy array?\n",
        "\n",
        "empty = np.empty(3)\n",
        "print('Array vazio preenchido com lixo na memória:', empty)\n",
        "full_10 = np.full(3,10)\n",
        "print('Array preenchido com 10 em todas as posições:',full_10)"
      ]
    },
    {
      "cell_type": "code",
      "execution_count": 4,
      "metadata": {
        "colab": {
          "base_uri": "https://localhost:8080/"
        },
        "id": "HiCPi2St0gJR",
        "outputId": "c9eb6941-4dec-403e-c459-cd0e8049295b"
      },
      "outputs": [
        {
          "name": "stdout",
          "output_type": "stream",
          "text": [
            "Array preenchido com zeros em todas a posições: [0. 0. 0.]\n"
          ]
        }
      ],
      "source": [
        "#Create a Numpy array filled with all zeros\n",
        "\n",
        "zeros = np.zeros(3)\n",
        "print('Array preenchido com zeros em todas a posições:', zeros)"
      ]
    },
    {
      "cell_type": "code",
      "execution_count": 5,
      "metadata": {
        "colab": {
          "base_uri": "https://localhost:8080/"
        },
        "id": "p4lp5wTn0vjc",
        "outputId": "4b3d3730-3496-4506-f930-a6b85be57217"
      },
      "outputs": [
        {
          "name": "stdout",
          "output_type": "stream",
          "text": [
            "Array preenchido com uns em todas a posições: [1. 1. 1.]\n"
          ]
        }
      ],
      "source": [
        "#Create a Numpy array filled with all ones\n",
        "\n",
        "ones = np.ones(3)\n",
        "print('Array preenchido com uns em todas a posições:', ones)"
      ]
    },
    {
      "cell_type": "code",
      "execution_count": 6,
      "metadata": {
        "colab": {
          "base_uri": "https://localhost:8080/"
        },
        "id": "AIIDyYqE1Hy2",
        "outputId": "164abbf5-a4bf-42bf-e16c-4f248053fa17"
      },
      "outputs": [
        {
          "name": "stdout",
          "output_type": "stream",
          "text": [
            "A linha existe? True\n"
          ]
        }
      ],
      "source": [
        "#Check whether a Numpy array contains a specified row\n",
        "\n",
        "array = np.array([[1, 2, 3],[4, 5, 6], [7, 8, 9],[10, 11, 11]])\n",
        "row = [1,2,3]\n",
        "print('A linha existe?',row in array.tolist())"
      ]
    },
    {
      "cell_type": "code",
      "execution_count": 7,
      "metadata": {
        "colab": {
          "base_uri": "https://localhost:8080/"
        },
        "id": "SpsXXLtq3Ztg",
        "outputId": "3503513e-512b-453d-c9e8-1288fa33e34c"
      },
      "outputs": [
        {
          "name": "stdout",
          "output_type": "stream",
          "text": [
            "[[1. 2. 3.]\n",
            " [4. 5. 6.]\n",
            " [7. 8. 9.]]\n"
          ]
        }
      ],
      "source": [
        "#How to Remove rows in Numpy array that contains non-numeric values?\n",
        "\n",
        "array = np.array([[1, 2, 3],[4, 5, 6], [7, 8, 9],[np.nan, np.nan, np.nan]])\n",
        "print(array[~np.isnan(array).any(axis=1)])"
      ]
    },
    {
      "cell_type": "code",
      "execution_count": 8,
      "metadata": {
        "colab": {
          "base_uri": "https://localhost:8080/"
        },
        "id": "GA51NACF5Hcl",
        "outputId": "57b057b4-5d3d-47b6-8749-b6e9f279b2f5"
      },
      "outputs": [
        {
          "name": "stdout",
          "output_type": "stream",
          "text": [
            "(2, 2, 1)\n",
            "[[1 2]\n",
            " [3 4]]\n",
            "(2, 2)\n"
          ]
        }
      ],
      "source": [
        "#Remove single-dimensional entries from the shape of an array\n",
        "\n",
        "array = np.array([[[1],[2]],[[3],[4]]])\n",
        "print(array.shape)\n",
        "\n",
        "print(np.squeeze(array))\n",
        "print(np.squeeze(array).shape)"
      ]
    },
    {
      "cell_type": "code",
      "execution_count": 9,
      "metadata": {
        "colab": {
          "base_uri": "https://localhost:8080/"
        },
        "id": "QexSAVek9X7O",
        "outputId": "fd998763-2600-4a0d-83f1-b723874daa1d"
      },
      "outputs": [
        {
          "name": "stdout",
          "output_type": "stream",
          "text": [
            "4\n"
          ]
        }
      ],
      "source": [
        "#Find the number of occurrences of a sequence in a NumPy array\n",
        "\n",
        "array = [[2,8,9,4],[9,4,9,4],[4,5,9,7],[2,9,4,3]]\n",
        "print(repr(array).count(\"9, 4\"))"
      ]
    },
    {
      "cell_type": "code",
      "execution_count": 10,
      "metadata": {
        "colab": {
          "base_uri": "https://localhost:8080/"
        },
        "id": "J9MnkcYKD7bJ",
        "outputId": "91982d77-65f6-4a4f-a181-4393f6d99840"
      },
      "outputs": [
        {
          "name": "stdout",
          "output_type": "stream",
          "text": [
            "1\n"
          ]
        }
      ],
      "source": [
        "#Find the most frequent value in a NumPy array\n",
        "\n",
        "array = np.array([1,2,3,4,5,6,7,8,9,10,1])\n",
        "print(np.bincount(array).argmax())"
      ]
    },
    {
      "cell_type": "code",
      "execution_count": 11,
      "metadata": {
        "colab": {
          "base_uri": "https://localhost:8080/"
        },
        "id": "MktRxcfqEUlx",
        "outputId": "a1967864-bea8-498e-9aeb-93d097b1eba4"
      },
      "outputs": [
        {
          "name": "stdout",
          "output_type": "stream",
          "text": [
            "[[1 2 3]\n",
            " [4 5 6]\n",
            " [7 8 9]]\n"
          ]
        }
      ],
      "source": [
        "#Combining a one and a two-dimensional NumPy Array\n",
        "\n",
        "array_1d = np.array([1,2,3])\n",
        "array_2d = np.array([[4,5,6],[7,8,9]])\n",
        "\n",
        "result = np.vstack((array_1d, array_2d))\n",
        "print(result)"
      ]
    },
    {
      "cell_type": "code",
      "execution_count": 12,
      "metadata": {
        "colab": {
          "base_uri": "https://localhost:8080/"
        },
        "id": "bSKizDNVGc-T",
        "outputId": "9c1691b8-a2f6-4850-f2c2-a4b231e72706"
      },
      "outputs": [
        {
          "name": "stdout",
          "output_type": "stream",
          "text": [
            "[[[0 5]\n",
            "  [0 6]\n",
            "  [0 7]\n",
            "  [0 8]\n",
            "  [0 9]]\n",
            "\n",
            " [[1 5]\n",
            "  [1 6]\n",
            "  [1 7]\n",
            "  [1 8]\n",
            "  [1 9]]\n",
            "\n",
            " [[2 5]\n",
            "  [2 6]\n",
            "  [2 7]\n",
            "  [2 8]\n",
            "  [2 9]]\n",
            "\n",
            " [[3 5]\n",
            "  [3 6]\n",
            "  [3 7]\n",
            "  [3 8]\n",
            "  [3 9]]\n",
            "\n",
            " [[4 5]\n",
            "  [4 6]\n",
            "  [4 7]\n",
            "  [4 8]\n",
            "  [4 9]]]\n"
          ]
        }
      ],
      "source": [
        "#How to build an array of all combinations of two NumPy arrays?\n",
        "\n",
        "array1 = np.array([0,1,2,3,4])\n",
        "array2 = np.array([5,6,7,8,9])\n",
        "\n",
        "comb = np.array(np.meshgrid(array1,array2)).T\n",
        "print(comb)"
      ]
    },
    {
      "cell_type": "code",
      "execution_count": 13,
      "metadata": {
        "colab": {
          "base_uri": "https://localhost:8080/"
        },
        "id": "b7kFRSnUHjD5",
        "outputId": "4b05d40a-2af7-48f8-ac9d-41ea3963ad72"
      },
      "outputs": [
        {
          "name": "stdout",
          "output_type": "stream",
          "text": [
            "[[0 0 0 0 0]\n",
            " [0 1 1 1 0]\n",
            " [0 1 1 1 0]\n",
            " [0 1 1 1 0]\n",
            " [0 0 0 0 0]]\n"
          ]
        }
      ],
      "source": [
        "#How to add a border around a NumPy array?\n",
        "\n",
        "array = np.array([[1,1,1],[1,1,1],[1,1,1]])\n",
        "print(np.pad(array, 1))"
      ]
    },
    {
      "cell_type": "code",
      "execution_count": 14,
      "metadata": {
        "colab": {
          "base_uri": "https://localhost:8080/"
        },
        "id": "HhyP2McTI3To",
        "outputId": "9be26ea8-fb54-49f0-c538-d85014610d3e"
      },
      "outputs": [
        {
          "name": "stdout",
          "output_type": "stream",
          "text": [
            "False\n"
          ]
        }
      ],
      "source": [
        "#How to compare two NumPy arrays?\n",
        "\n",
        "array1 = np.array([0,1,2,3,4])\n",
        "array2 = np.array([5,6,7,8,9])\n",
        "\n",
        "print(np.array_equal(array1,array2))"
      ]
    },
    {
      "cell_type": "code",
      "execution_count": 15,
      "metadata": {
        "colab": {
          "base_uri": "https://localhost:8080/"
        },
        "id": "khXcsqPfJxYM",
        "outputId": "6f7a9d38-888b-4615-d506-ec154ee64389"
      },
      "outputs": [
        {
          "name": "stdout",
          "output_type": "stream",
          "text": [
            "True\n",
            "False\n"
          ]
        }
      ],
      "source": [
        "#How to check whether specified values are present in NumPy array?\n",
        "\n",
        "array = np.array([0,1,2,3,4])\n",
        "print(0 in array)\n",
        "print(5 in array)"
      ]
    },
    {
      "cell_type": "code",
      "execution_count": 16,
      "metadata": {
        "colab": {
          "base_uri": "https://localhost:8080/"
        },
        "id": "tl6f3jq5Lypl",
        "outputId": "8e6c7396-7142-4e6b-9bc1-6ef0dd1392b2"
      },
      "outputs": [
        {
          "name": "stdout",
          "output_type": "stream",
          "text": [
            "[[[ 0  1  2]\n",
            "  [ 3  4  5]\n",
            "  [ 6  7  8]]\n",
            "\n",
            " [[ 9 10 11]\n",
            "  [12 13 14]\n",
            "  [15 16 17]]\n",
            "\n",
            " [[18 19 20]\n",
            "  [21 22 23]\n",
            "  [24 25 26]]]\n",
            "[[ 0  4  8]\n",
            " [ 9 13 17]\n",
            " [18 22 26]]\n"
          ]
        }
      ],
      "source": [
        "# How to get all 2D diagonals of a 3D NumPy array?\n",
        "\n",
        "array = np.arange(27).reshape(3,3,3)\n",
        "diag = np.diagonal(array,axis1=1,axis2=2)\n",
        "\n",
        "print(array)\n",
        "print(diag)"
      ]
    },
    {
      "cell_type": "code",
      "execution_count": 17,
      "metadata": {
        "colab": {
          "base_uri": "https://localhost:8080/"
        },
        "id": "jbei4M1NONCc",
        "outputId": "2a3246f1-7574-4954-b0c7-2359e264ee38"
      },
      "outputs": [
        {
          "name": "stdout",
          "output_type": "stream",
          "text": [
            "[[1 2 3 4]]\n"
          ]
        }
      ],
      "source": [
        "#Flatten a Matrix in Python using NumPy\n",
        "\n",
        "array = np.matrix([[1,2],[3,4]])\n",
        "flatten = array.flatten()\n",
        "print(flatten)"
      ]
    },
    {
      "cell_type": "code",
      "execution_count": 18,
      "metadata": {
        "colab": {
          "base_uri": "https://localhost:8080/"
        },
        "id": "F3Mdr1EIO2hR",
        "outputId": "2e41e678-8482-4814-d8c7-19cc910efecd"
      },
      "outputs": [
        {
          "name": "stdout",
          "output_type": "stream",
          "text": [
            "[1 2 3 4]\n"
          ]
        }
      ],
      "source": [
        "#Flatten a 2d numpy array into 1d array\n",
        "\n",
        "array = np.array([[1,2],[3,4]])\n",
        "flatten = array.flatten()\n",
        "print(flatten)"
      ]
    },
    {
      "cell_type": "code",
      "execution_count": 19,
      "metadata": {
        "colab": {
          "base_uri": "https://localhost:8080/"
        },
        "id": "1F3i7heiPd0B",
        "outputId": "05ed4e42-34fd-4a3c-ec5e-1542f00798bd"
      },
      "outputs": [
        {
          "name": "stdout",
          "output_type": "stream",
          "text": [
            "[[1]\n",
            " [2]\n",
            " [3]]\n"
          ]
        }
      ],
      "source": [
        "#Move axes of an array to new positions\n",
        "\n",
        "array = np.array([[1,2,3]])\n",
        "print(np.swapaxes(array,0,1))"
      ]
    },
    {
      "cell_type": "code",
      "execution_count": 20,
      "metadata": {
        "colab": {
          "base_uri": "https://localhost:8080/"
        },
        "id": "sdmh96ARSgQo",
        "outputId": "64bbe4ef-f4ad-4f09-e567-0ac9f0e9374c"
      },
      "outputs": [
        {
          "name": "stdout",
          "output_type": "stream",
          "text": [
            "[ 0.  1.  1.  2.  3.  5.  8. 13. 21. 34.]\n"
          ]
        }
      ],
      "source": [
        "#NumPy – Fibonacci Series using Binet Formula\n",
        "\n",
        "array = np.arange(0,10,1)\n",
        "length = len(array)\n",
        "r5 = np.sqrt(5)\n",
        "alpha = (1+r5)/2\n",
        "beta = (1-r5)/2\n",
        "Fibn =  np.rint(((alpha**array)-(beta**array))/r5)\n",
        "print(Fibn)"
      ]
    },
    {
      "cell_type": "code",
      "execution_count": 21,
      "metadata": {
        "colab": {
          "base_uri": "https://localhost:8080/"
        },
        "id": "88H1eV7TT2qp",
        "outputId": "8e20af0e-7a61-4bb7-8c81-564604ef328a"
      },
      "outputs": [
        {
          "name": "stdout",
          "output_type": "stream",
          "text": [
            "7\n"
          ]
        }
      ],
      "source": [
        "#Counts the number of non-zero values in the array\n",
        "\n",
        "array = np.array([0,1,2,3,4,0,6,7,8,0])\n",
        "print(np.count_nonzero(array))"
      ]
    },
    {
      "cell_type": "code",
      "execution_count": 22,
      "metadata": {
        "colab": {
          "base_uri": "https://localhost:8080/"
        },
        "id": "8-EwAzY-UXzU",
        "outputId": "72203a5f-31e1-4bed-ff33-42f896915d08"
      },
      "outputs": [
        {
          "name": "stdout",
          "output_type": "stream",
          "text": [
            "Numero de elementos na primeira linha: 4\n"
          ]
        }
      ],
      "source": [
        "#Count the number of elements along a given axis\n",
        "\n",
        "array = np.array([[2,8,9,4],[9,4,9,4],[4,5,9,7],[2,9,4,3]])\n",
        "print('Numero de elementos na primeira linha:',np.size(array[3]))"
      ]
    },
    {
      "cell_type": "code",
      "execution_count": 23,
      "metadata": {
        "colab": {
          "base_uri": "https://localhost:8080/"
        },
        "id": "h9-zakETWLal",
        "outputId": "10caf233-51d5-4b71-cb8d-54740ed20759"
      },
      "outputs": [
        {
          "name": "stdout",
          "output_type": "stream",
          "text": [
            "[1 2 3 4]\n"
          ]
        }
      ],
      "source": [
        "#Trim the leading and/or trailing zeros from a 1-D array\n",
        "\n",
        "array = np.array([0,0,0,1,2,3,4,0,0,0])\n",
        "print(np.trim_zeros(array))"
      ]
    },
    {
      "cell_type": "code",
      "execution_count": 24,
      "metadata": {
        "colab": {
          "base_uri": "https://localhost:8080/"
        },
        "id": "KSyUZCB4XCRT",
        "outputId": "f48a2826-618a-439b-c903-7c85d7b032fd"
      },
      "outputs": [
        {
          "name": "stdout",
          "output_type": "stream",
          "text": [
            "[1 2 3 4 5 6]\n"
          ]
        }
      ],
      "source": [
        "#Change data type of given numpy array\n",
        "\n",
        "array = np.array([1.1, 2.2, 3.3, 4.4, 5.5, 6.6])\n",
        "print(array.astype(int))"
      ]
    },
    {
      "cell_type": "code",
      "execution_count": 25,
      "metadata": {
        "colab": {
          "base_uri": "https://localhost:8080/"
        },
        "id": "HkBNc65yY8ad",
        "outputId": "3b472693-cce8-4aec-bede-dd95ac7657d6"
      },
      "outputs": [
        {
          "name": "stdout",
          "output_type": "stream",
          "text": [
            "[6 5 4 3 2 1]\n"
          ]
        }
      ],
      "source": [
        "#Reverse a numpy array\n",
        "\n",
        "array = np.array([1, 2, 3, 4, 5, 6])\n",
        "print(np.flip(array))"
      ]
    },
    {
      "cell_type": "code",
      "execution_count": 26,
      "metadata": {
        "colab": {
          "base_uri": "https://localhost:8080/",
          "height": 217
        },
        "id": "Xck1gakgZy6y",
        "outputId": "4ac4300a-cce2-4d62-ebe5-c7de9af626b9"
      },
      "outputs": [
        {
          "name": "stdout",
          "output_type": "stream",
          "text": [
            "3\n"
          ]
        },
        {
          "ename": "ValueError",
          "evalue": "assignment destination is read-only",
          "output_type": "error",
          "traceback": [
            "\u001b[1;31m---------------------------------------------------------------------------\u001b[0m",
            "\u001b[1;31mValueError\u001b[0m                                Traceback (most recent call last)",
            "Cell \u001b[1;32mIn[26], line 7\u001b[0m\n\u001b[0;32m      4\u001b[0m array\u001b[39m.\u001b[39msetflags(write\u001b[39m=\u001b[39m\u001b[39mFalse\u001b[39;00m)\n\u001b[0;32m      6\u001b[0m \u001b[39mprint\u001b[39m(array[\u001b[39m2\u001b[39m])\n\u001b[1;32m----> 7\u001b[0m array[\u001b[39m2\u001b[39;49m] \u001b[39m=\u001b[39m \u001b[39m4\u001b[39m\n",
            "\u001b[1;31mValueError\u001b[0m: assignment destination is read-only"
          ]
        }
      ],
      "source": [
        "#How to make a NumPy array read-only?\n",
        "\n",
        "array = np.array([1, 2, 3, 4, 5, 6])\n",
        "array.setflags(write=False)\n",
        "\n",
        "print(array[2])\n",
        "array[2] = 4"
      ]
    }
  ],
  "metadata": {
    "colab": {
      "name": "PDI - Atividade 1",
      "provenance": []
    },
    "kernelspec": {
      "display_name": "Python 3",
      "language": "python",
      "name": "python3"
    },
    "language_info": {
      "codemirror_mode": {
        "name": "ipython",
        "version": 3
      },
      "file_extension": ".py",
      "mimetype": "text/x-python",
      "name": "python",
      "nbconvert_exporter": "python",
      "pygments_lexer": "ipython3",
      "version": "3.10.10"
    },
    "vscode": {
      "interpreter": {
        "hash": "6c55a439dbb469619f0debeb07dec8eda828c9ea91bd7d072404e8075f4a879a"
      }
    }
  },
  "nbformat": 4,
  "nbformat_minor": 0
}
