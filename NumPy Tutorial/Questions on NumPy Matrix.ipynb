{
 "cells": [
  {
   "cell_type": "code",
   "execution_count": 1,
   "metadata": {},
   "outputs": [],
   "source": [
    "\n",
    "import numpy as np"
   ]
  },
  {
   "cell_type": "code",
   "execution_count": 2,
   "metadata": {},
   "outputs": [
    {
     "name": "stdout",
     "output_type": "stream",
     "text": [
      "2\n"
     ]
    }
   ],
   "source": [
    "#Get the maximum value from given matrix\n",
    "\n",
    "array = np.matrix([[2,8,9,4],[9,4,9,4],[4,5,9,7],[2,9,4,3]])\n",
    "print(np.amin(array))"
   ]
  },
  {
   "cell_type": "code",
   "execution_count": 3,
   "metadata": {},
   "outputs": [
    {
     "name": "stdout",
     "output_type": "stream",
     "text": [
      "2\n"
     ]
    }
   ],
   "source": [
    "#Get the minimum value from given matrix\n",
    "\n",
    "array = np.matrix([[2,8,9,4],[9,4,9,4],[4,5,9,7],[2,9,4,3]])\n",
    "print((np.amin(array)))"
   ]
  },
  {
   "cell_type": "code",
   "execution_count": 4,
   "metadata": {},
   "outputs": [
    {
     "name": "stdout",
     "output_type": "stream",
     "text": [
      "Numero de linhas: 4\n",
      "Numero de colunas: 4\n"
     ]
    }
   ],
   "source": [
    "#Find the number of rows and columns of a given matrix using NumPy\n",
    "\n",
    "array = np.matrix([[2,8,9,4],[9,4,9,4],[4,5,9,7],[2,9,4,3]])\n",
    "print('Numero de linhas:', array.shape[0])\n",
    "print('Numero de colunas:', array.shape[1])"
   ]
  },
  {
   "cell_type": "code",
   "execution_count": 5,
   "metadata": {},
   "outputs": [
    {
     "name": "stdout",
     "output_type": "stream",
     "text": [
      "Elemntro 1,0: 9\n"
     ]
    }
   ],
   "source": [
    "#Select the elements from a given matrix\n",
    "\n",
    "array = np.matrix([[2,8,9,4],[9,4,9,4],[4,5,9,7],[2,9,4,3]])\n",
    "print('Elemntro 1,0:', array[1,0])"
   ]
  },
  {
   "cell_type": "code",
   "execution_count": 6,
   "metadata": {},
   "outputs": [
    {
     "name": "stdout",
     "output_type": "stream",
     "text": [
      "92\n"
     ]
    }
   ],
   "source": [
    "#Find the sum of values in a matrix\n",
    "\n",
    "array = np.matrix([[2,8,9,4],[9,4,9,4],[4,5,9,7],[2,9,4,3]])\n",
    "print(np.sum(array))"
   ]
  },
  {
   "cell_type": "code",
   "execution_count": 7,
   "metadata": {},
   "outputs": [
    {
     "name": "stdout",
     "output_type": "stream",
     "text": [
      "18\n"
     ]
    }
   ],
   "source": [
    "#Calculate the sum of the diagonal elements of a NumPy array\n",
    "\n",
    "array = np.matrix([[2,8,9,4],[9,4,9,4],[4,5,9,7],[2,9,4,3]])\n",
    "print(np.trace(array))"
   ]
  },
  {
   "cell_type": "code",
   "execution_count": 8,
   "metadata": {},
   "outputs": [
    {
     "name": "stdout",
     "output_type": "stream",
     "text": [
      "[[ 4 16 18  8]\n",
      " [18  8 18  8]\n",
      " [ 8 10 18 14]\n",
      " [ 4 18  8  6]] \n",
      "\n",
      "[[0 0 0 0]\n",
      " [0 0 0 0]\n",
      " [0 0 0 0]\n",
      " [0 0 0 0]]\n"
     ]
    }
   ],
   "source": [
    "#Adding and Subtracting Matrices in Python\n",
    "\n",
    "array1 = np.matrix([[2,8,9,4],[9,4,9,4],[4,5,9,7],[2,9,4,3]])\n",
    "array2 = np.matrix([[2,8,9,4],[9,4,9,4],[4,5,9,7],[2,9,4,3]])\n",
    "\n",
    "print(array1 + array2,'\\n')\n",
    "print(array1 - array2)"
   ]
  },
  {
   "cell_type": "code",
   "execution_count": 9,
   "metadata": {},
   "outputs": [
    {
     "name": "stdout",
     "output_type": "stream",
     "text": [
      "[[2 8 9 4]\n",
      " [9 4 9 4]\n",
      " [4 5 9 7]\n",
      " [2 9 4 3]\n",
      " [1 2 3 4]]\n",
      "\n",
      "[[2 8 9 4 1]\n",
      " [9 4 9 4 2]\n",
      " [4 5 9 7 3]\n",
      " [2 9 4 3 4]]\n"
     ]
    }
   ],
   "source": [
    "#Ways to add row/columns in numpy array\n",
    "\n",
    "array = np.matrix([[2,8,9,4],[9,4,9,4],[4,5,9,7],[2,9,4,3]])\n",
    "row = np.array([[1,2,3,4]])\n",
    "\n",
    "print(np.vstack((array, row)))\n",
    "print()\n",
    "print(np.hstack((array, row.T)))"
   ]
  },
  {
   "cell_type": "code",
   "execution_count": 10,
   "metadata": {},
   "outputs": [
    {
     "name": "stdout",
     "output_type": "stream",
     "text": [
      "[[137 160 179]\n",
      " [128 154 176]\n",
      " [157 182 200]\n",
      " [ 96 114 129]]\n"
     ]
    }
   ],
   "source": [
    "#Matrix Multiplication in NumPy\n",
    "\n",
    "array1 = np.matrix([[2,8,9,4],[9,4,9,4],[4,5,9,7],[2,9,4,3]])\n",
    "array2 =  np.matrix([[1, 2, 3],[4, 5, 6],[7, 8, 9],[10, 11, 11]])\n",
    "print(np.dot(array1,array2))"
   ]
  },
  {
   "cell_type": "code",
   "execution_count": 11,
   "metadata": {},
   "outputs": [
    {
     "name": "stdout",
     "output_type": "stream",
     "text": [
      "[23.43872329+0.j         -5.52816829+0.j          0.0447225 +3.15740354j\n",
      "  0.0447225 -3.15740354j]\n"
     ]
    }
   ],
   "source": [
    "#Get the eigen values of a matrix\n",
    "\n",
    "array = np.matrix([[2,8,9,4],[9,4,9,4],[4,5,9,7],[2,9,4,3]])\n",
    "print(np.linalg.eigvals(array))"
   ]
  },
  {
   "cell_type": "code",
   "execution_count": 12,
   "metadata": {},
   "outputs": [
    {
     "name": "stdout",
     "output_type": "stream",
     "text": [
      "-1291.9999999999989\n"
     ]
    }
   ],
   "source": [
    "#How to Calculate the determinant of a matrix using NumPy?\n",
    "\n",
    "array = np.matrix([[2,8,9,4],[9,4,9,4],[4,5,9,7],[2,9,4,3]])\n",
    "print(np.linalg.det(array))"
   ]
  },
  {
   "cell_type": "code",
   "execution_count": 13,
   "metadata": {},
   "outputs": [
    {
     "name": "stdout",
     "output_type": "stream",
     "text": [
      "[[-0.14241486  0.13931889 -0.03405573  0.08359133]\n",
      " [ 0.00077399 -0.00619195 -0.05959752  0.14628483]\n",
      " [ 0.24767802  0.01857585 -0.07120743 -0.18885449]\n",
      " [-0.2376161  -0.09907121  0.29643963  0.09055728]]\n"
     ]
    }
   ],
   "source": [
    "#How to inverse a matrix using NumPy\n",
    "\n",
    "array = np.matrix([[2,8,9,4],[9,4,9,4],[4,5,9,7],[2,9,4,3]])\n",
    "print(np.linalg.inv(array))"
   ]
  },
  {
   "cell_type": "code",
   "execution_count": 14,
   "metadata": {},
   "outputs": [
    {
     "name": "stdout",
     "output_type": "stream",
     "text": [
      "[0 0 2 1 5 1 0 1 1 5]\n"
     ]
    }
   ],
   "source": [
    "#How to count the frequency of unique values in NumPy array?\n",
    "\n",
    "array = np.matrix([[2,8,9,4],[9,4,9,4],[4,5,9,7],[2,9,4,3]])\n",
    "print(np.bincount(np.ravel(array)))"
   ]
  },
  {
   "cell_type": "code",
   "execution_count": 15,
   "metadata": {},
   "outputs": [
    {
     "name": "stdout",
     "output_type": "stream",
     "text": [
      "[[120.+0.j 129.+0.j 187.+0.j 115.+0.j]\n",
      " [ 98.+0.j 169.+0.j 214.+0.j 127.+0.j]\n",
      " [103.+0.j 160.+0.j 190.+0.j 120.+0.j]\n",
      " [107.+0.j  99.+0.j 147.+0.j  81.+0.j]]\n"
     ]
    }
   ],
   "source": [
    "#Multiply matrices of complex numbers using NumPy in Python\n",
    "\n",
    "array = np.matrix([[2,8,9,4],[9,4,9,4],[4,5,9,7],[2,9,4,3]])\n",
    "comp = array.astype(complex)\n",
    "print(np.dot(array,comp))"
   ]
  },
  {
   "cell_type": "code",
   "execution_count": 16,
   "metadata": {},
   "outputs": [
    {
     "name": "stdout",
     "output_type": "stream",
     "text": [
      "[[ 4  4  6]\n",
      " [ 8  8 12]\n",
      " [12 12 18]]\n"
     ]
    }
   ],
   "source": [
    "#Compute the outer product of two given vectors using NumPy in Python\n",
    "\n",
    "array1 = np.array([1,2,3])\n",
    "array2 = np.array([4,4,6])\n",
    "print(np.outer(array1,array2))"
   ]
  },
  {
   "cell_type": "code",
   "execution_count": 17,
   "metadata": {},
   "outputs": [
    {
     "name": "stdout",
     "output_type": "stream",
     "text": [
      "Inner product:\n",
      "Array:\n",
      " [[38 14]\n",
      " [38 14]]\n",
      "Matrix:\n",
      " [[ 45 121 197 273]\n",
      " [ 44 132 220 308]\n",
      " [ 41 113 185 257]\n",
      " [ 32  92 152 212]]\n",
      "\n",
      "Outer product:\n",
      "Array:\n",
      " [[ 5  6  7  1  2  3]\n",
      " [10 12 14  2  4  6]\n",
      " [15 18 21  3  6  9]\n",
      " [ 5  6  7  1  2  3]\n",
      " [10 12 14  2  4  6]\n",
      " [15 18 21  3  6  9]]\n",
      "Matrix:\n",
      " [[  2   4   6  10  12  14  18  20  22  26  28  30]\n",
      " [  8  16  24  40  48  56  72  80  88 104 112 120]\n",
      " [  9  18  27  45  54  63  81  90  99 117 126 135]\n",
      " [  9  18  27  45  54  63  81  90  99 117 126 135]\n",
      " [  4   8  12  20  24  28  36  40  44  52  56  60]\n",
      " [  9  18  27  45  54  63  81  90  99 117 126 135]\n",
      " [  4   8  12  20  24  28  36  40  44  52  56  60]\n",
      " [  5  10  15  25  30  35  45  50  55  65  70  75]\n",
      " [  9  18  27  45  54  63  81  90  99 117 126 135]\n",
      " [  2   4   6  10  12  14  18  20  22  26  28  30]\n",
      " [  9  18  27  45  54  63  81  90  99 117 126 135]\n",
      " [  4   8  12  20  24  28  36  40  44  52  56  60]]\n",
      "\n",
      "Cross product:\n",
      "Array:\n",
      " [[-4  8 -4]\n",
      " [ 0  0  0]]\n",
      "Matrix:\n",
      " [[  6   3  -4]\n",
      " [-26 -18  34]\n",
      " [-35  37  -5]\n",
      " [ 79  22 -89]]\n",
      "\n"
     ]
    }
   ],
   "source": [
    "#Calculate inner, outer, and cross products of matrices and vectors using NumPy\n",
    "\n",
    "matrix1 = np.matrix([[2,8,9],[9,4,9],[4,5,9],[2,9,4]])\n",
    "matrix2 = np.matrix([[1,2,3],[5,6,7],[9,10,11],[13,14,15]])\n",
    "\n",
    "array1 = np.array([[1,2,3],[1,2,3]])\n",
    "array2 = np.array([[5,6,7],[1,2,3]])\n",
    "\n",
    "print('Inner product:')\n",
    "print('Array:\\n', np.inner(array1,array2))\n",
    "print('Matrix:\\n', np.inner(matrix1,matrix2))\n",
    "print()\n",
    "\n",
    "print('Outer product:')\n",
    "print('Array:\\n', np.outer(array1,array2))\n",
    "print('Matrix:\\n', np.outer(matrix1,matrix2))\n",
    "print()\n",
    "\n",
    "print('Cross product:')\n",
    "print('Array:\\n', np.cross(array1, array2))\n",
    "print('Matrix:\\n', np.cross(matrix1,matrix2))\n",
    "print()"
   ]
  },
  {
   "cell_type": "code",
   "execution_count": 18,
   "metadata": {},
   "outputs": [
    {
     "name": "stdout",
     "output_type": "stream",
     "text": [
      "[[1. 1. 1. 1.]\n",
      " [1. 1. 1. 1.]\n",
      " [1. 1. 1. 1.]\n",
      " [1. 1. 1. 1.]]\n"
     ]
    }
   ],
   "source": [
    "#Compute the covariance matrix of two given NumPy arrays\n",
    "\n",
    "array1 = np.array([[1,2,3],[1,2,3]])\n",
    "array2 = np.array([[5,6,7],[1,2,3]])\n",
    "print(np.cov(array1,array2))"
   ]
  },
  {
   "cell_type": "code",
   "execution_count": 19,
   "metadata": {},
   "outputs": [
    {
     "name": "stdout",
     "output_type": "stream",
     "text": [
      "[[nan nan nan nan]\n",
      " [nan nan nan nan]\n",
      " [nan nan nan nan]\n",
      " [nan nan nan nan]]\n"
     ]
    },
    {
     "name": "stderr",
     "output_type": "stream",
     "text": [
      "c:\\Users\\tayco\\AppData\\Local\\Programs\\Python\\Python310\\lib\\site-packages\\numpy\\lib\\function_base.py:2829: RuntimeWarning: invalid value encountered in true_divide\n",
      "  c /= stddev[:, None]\n"
     ]
    }
   ],
   "source": [
    "#Convert covariance matrix to correlation matrix using Python\n",
    "\n",
    "array1 = np.array([[1,2,],[3,4]])\n",
    "array2 = np.array([[5,6],[7,8]])\n",
    "print(np.corrcoef(np.cov(array1,array2)))"
   ]
  },
  {
   "cell_type": "code",
   "execution_count": 20,
   "metadata": {},
   "outputs": [
    {
     "name": "stdout",
     "output_type": "stream",
     "text": [
      "[[ 5  6 10 12]\n",
      " [ 7  8 14 16]\n",
      " [15 18 20 24]\n",
      " [21 24 28 32]]\n"
     ]
    }
   ],
   "source": [
    "#Compute the Kronecker product of two mulitdimension NumPy arrays\n",
    "\n",
    "array1 = np.array([[1,2,],[3,4]])\n",
    "array2 = np.array([[5,6],[7,8]])\n",
    "print(np.kron(array1,array2))"
   ]
  },
  {
   "cell_type": "code",
   "execution_count": 21,
   "metadata": {},
   "outputs": [
    {
     "name": "stdout",
     "output_type": "stream",
     "text": [
      "[1, 2, 3, 4, 5, 6]\n"
     ]
    }
   ],
   "source": [
    "#Convert the matrix into a list\n",
    "\n",
    "array = np.array([1,2,3,4,5,6])\n",
    "print(array.tolist())"
   ]
  }
 ],
 "metadata": {
  "kernelspec": {
   "display_name": "Python 3.10.4 64-bit",
   "language": "python",
   "name": "python3"
  },
  "language_info": {
   "codemirror_mode": {
    "name": "ipython",
    "version": 3
   },
   "file_extension": ".py",
   "mimetype": "text/x-python",
   "name": "python",
   "nbconvert_exporter": "python",
   "pygments_lexer": "ipython3",
   "version": "3.10.4"
  },
  "orig_nbformat": 4,
  "vscode": {
   "interpreter": {
    "hash": "5a7450cd130c3c23b271674dc90cf90c327daecf044a38130d7138f5cdac1d07"
   }
  }
 },
 "nbformat": 4,
 "nbformat_minor": 2
}
