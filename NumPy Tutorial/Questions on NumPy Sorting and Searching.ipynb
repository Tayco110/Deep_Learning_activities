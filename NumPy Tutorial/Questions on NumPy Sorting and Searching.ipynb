{
 "cells": [
  {
   "cell_type": "code",
   "execution_count": 25,
   "metadata": {},
   "outputs": [],
   "source": [
    "import numpy as np"
   ]
  },
  {
   "cell_type": "code",
   "execution_count": 26,
   "metadata": {},
   "outputs": [
    {
     "name": "stdout",
     "output_type": "stream",
     "text": [
      "[9 0 5 1 6 2 7 3 8 4]\n"
     ]
    }
   ],
   "source": [
    "#How to get the indices of the sorted array using NumPy in Python?\n",
    "\n",
    "array = np.array([1, 3, 5, 7, 9, 2, 4, 6, 8, 0])\n",
    "index = np.argsort(array)\n",
    "print(index)"
   ]
  },
  {
   "cell_type": "code",
   "execution_count": 27,
   "metadata": {},
   "outputs": [
    {
     "name": "stdout",
     "output_type": "stream",
     "text": [
      "[0 1 2 3 4]\n"
     ]
    }
   ],
   "source": [
    "#Finding the k smallest values of a NumPy array\n",
    "\n",
    "array = np.array([1, 3, 5, 7, 9, 2, 4, 6, 8, 0])\n",
    "k = 5\n",
    "print(np.sort(array)[:k])"
   ]
  },
  {
   "cell_type": "code",
   "execution_count": 28,
   "metadata": {},
   "outputs": [
    {
     "name": "stdout",
     "output_type": "stream",
     "text": [
      "[5 6 7 8 9]\n"
     ]
    }
   ],
   "source": [
    "#How to get the n-largest values of an array using NumPy?\n",
    "\n",
    "array = np.array([1, 3, 5, 7, 9, 2, 4, 6, 8, 0])\n",
    "k = 5\n",
    "print(np.sort(array)[k:])"
   ]
  },
  {
   "cell_type": "code",
   "execution_count": 29,
   "metadata": {},
   "outputs": [
    {
     "name": "stdout",
     "output_type": "stream",
     "text": [
      "[[1 3 5]\n",
      " [2 7 9]\n",
      " [4 6 8]]\n"
     ]
    }
   ],
   "source": [
    "#Sort the values in a matrix\n",
    "\n",
    "matrix = np.array([[1,3,5],[7,9,2],[4,6,8]])\n",
    "matrix.sort()\n",
    "\n",
    "print(matrix)"
   ]
  },
  {
   "cell_type": "code",
   "execution_count": 30,
   "metadata": {},
   "outputs": [
    {
     "name": "stdout",
     "output_type": "stream",
     "text": [
      "[1.1 1.2]\n"
     ]
    }
   ],
   "source": [
    "#Filter out integers from float numpy array\n",
    "\n",
    "array = np.array([1, 1.1, 1.2, 2, 3])\n",
    "result = array[array != array.astype(int)]\n",
    "print(result)"
   ]
  },
  {
   "cell_type": "code",
   "execution_count": 31,
   "metadata": {},
   "outputs": [
    {
     "name": "stdout",
     "output_type": "stream",
     "text": [
      "[9 0 5 1 6 2 7 3 8 4]\n"
     ]
    }
   ],
   "source": [
    "#Find the indices into a sorted array\n",
    "\n",
    "array = np.array([1, 3, 5, 7, 9, 2, 4, 6, 8, 0])\n",
    "index = np.argsort(array)\n",
    "print(index)"
   ]
  }
 ],
 "metadata": {
  "kernelspec": {
   "display_name": "Python 3.9.12 ('base')",
   "language": "python",
   "name": "python3"
  },
  "language_info": {
   "codemirror_mode": {
    "name": "ipython",
    "version": 3
   },
   "file_extension": ".py",
   "mimetype": "text/x-python",
   "name": "python",
   "nbconvert_exporter": "python",
   "pygments_lexer": "ipython3",
   "version": "3.9.12"
  },
  "orig_nbformat": 4,
  "vscode": {
   "interpreter": {
    "hash": "3867dd0c25ae4009a5cdda78bdc01493f6e56033bc714ba4cc749160456480dc"
   }
  }
 },
 "nbformat": 4,
 "nbformat_minor": 2
}
