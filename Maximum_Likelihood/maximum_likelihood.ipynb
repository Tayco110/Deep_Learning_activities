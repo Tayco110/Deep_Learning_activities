{
 "cells": [
  {
   "cell_type": "code",
   "execution_count": null,
   "metadata": {},
   "outputs": [],
   "source": [
    "#imports\n",
    "import numpy as np\n",
    "import tensorflow as tf\n",
    "import matplotlib.pyplot as plt"
   ]
  },
  {
   "cell_type": "code",
   "execution_count": null,
   "metadata": {},
   "outputs": [],
   "source": [
    "#Carregando a base de dados\n",
    "x_train = np.load('x_train.npy')\n",
    "print(x_train.shape)"
   ]
  },
  {
   "cell_type": "code",
   "execution_count": null,
   "metadata": {},
   "outputs": [],
   "source": [
    "#Valores dos dados\n",
    "plt.figure(figsize=(20,6))\n",
    "plt.plot(x_train, color='red', linestyle='dashed')\n",
    "plt.grid(True)\n",
    "plt.show()"
   ]
  },
  {
   "cell_type": "code",
   "execution_count": null,
   "metadata": {},
   "outputs": [],
   "source": [
    "#Normalizando o dataset\n",
    "x_mean = np.mean(x_train)\n",
    "x_std = np.std(x_train)\n",
    "x_train = (x_train - x_mean) / x_std"
   ]
  },
  {
   "cell_type": "code",
   "execution_count": null,
   "metadata": {},
   "outputs": [],
   "source": [
    "#Defininfo a função densidade de probabilidade\n",
    "def probability_density_function(x, mu, sigma):\n",
    "    return 1/(sigma*tf.sqrt(2*np.pi)) * tf.exp(-(x-mu)**2/(2*sigma**2))"
   ]
  },
  {
   "cell_type": "code",
   "execution_count": null,
   "metadata": {},
   "outputs": [],
   "source": [
    "#Definição da função log-verossimilhança\n",
    "def log_likelihood(x, mu, sigma):\n",
    "    return tf.reduce_sum(tf.math.log(probability_density_function(x, mu, sigma)))"
   ]
  },
  {
   "cell_type": "code",
   "execution_count": null,
   "metadata": {},
   "outputs": [],
   "source": [
    "#Definindo as variáveis\n",
    "mu = tf.Variable(tf.random.normal([1]), name='mu')\n",
    "sigma = tf.Variable(tf.random.normal([1]), name='sigma')\n",
    "\n",
    "learning_rate = 0.01\n",
    "num_iterations = 1000\n",
    "\n",
    "optimizer = tf.optimizers.Adam(learning_rate)"
   ]
  },
  {
   "cell_type": "code",
   "execution_count": null,
   "metadata": {},
   "outputs": [],
   "source": [
    "#Treinamento\n",
    "for i in range(num_iterations):\n",
    "    with tf.GradientTape() as tape:\n",
    "        loss = -log_likelihood(x_train, mu, tf.abs(sigma))\n",
    "\n",
    "    gradients = tape.gradient(loss, [mu, sigma])\n",
    "    optimizer.apply_gradients(zip(gradients, [mu, sigma]))\n",
    "\n",
    "estimated_mean = mu.numpy()[0] * x_std + x_mean\n",
    "estimated_std = tf.abs(sigma).numpy()[0] * x_std\n"
   ]
  },
  {
   "cell_type": "code",
   "execution_count": null,
   "metadata": {},
   "outputs": [],
   "source": [
    "x = np.linspace(np.min(x_train), np.max(x_train), 1000)\n",
    "pdf = probability_density_function(x, mu, sigma)"
   ]
  },
  {
   "cell_type": "code",
   "execution_count": null,
   "metadata": {},
   "outputs": [],
   "source": [
    "fig, ax = plt.subplots(figsize=(8, 6))\n",
    "\n",
    "#Histograma\n",
    "ax.hist(x_train, bins=30, density=True, alpha=0.4, color='gray', edgecolor='black')\n",
    "ax.axvline(mu.numpy()[0], color='red', linestyle='--', label='Estimated Mean')\n",
    "\n",
    "#PDF\n",
    "ax.plot(x, pdf, color='blue', linewidth=2, label='Probability Density Function')\n",
    "\n",
    "ax.set_title('Histogram and Probability Density Function', fontsize=16)\n",
    "ax.set_xlabel('x', fontsize=14)\n",
    "ax.set_ylabel('Probability Density', fontsize=14)\n",
    "ax.legend(fontsize=12)\n",
    "ax.grid(alpha=0.4)\n",
    "\n",
    "plt.show()"
   ]
  }
 ],
 "metadata": {
  "kernelspec": {
   "display_name": "Python 3",
   "language": "python",
   "name": "python3"
  },
  "language_info": {
   "codemirror_mode": {
    "name": "ipython",
    "version": 3
   },
   "file_extension": ".py",
   "mimetype": "text/x-python",
   "name": "python",
   "nbconvert_exporter": "python",
   "pygments_lexer": "ipython3",
   "version": "3.10.10"
  },
  "orig_nbformat": 4
 },
 "nbformat": 4,
 "nbformat_minor": 2
}
