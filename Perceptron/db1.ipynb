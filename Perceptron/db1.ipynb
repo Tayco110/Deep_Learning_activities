{
 "cells": [
  {
   "attachments": {},
   "cell_type": "markdown",
   "metadata": {},
   "source": [
    "### Primeiro, importamos as bibliotecas"
   ]
  },
  {
   "cell_type": "code",
   "execution_count": 26,
   "metadata": {},
   "outputs": [],
   "source": [
    "import numpy as np"
   ]
  },
  {
   "attachments": {},
   "cell_type": "markdown",
   "metadata": {},
   "source": [
    "### Definimos a classe do Perceptron para modularizar o código"
   ]
  },
  {
   "cell_type": "code",
   "execution_count": 27,
   "metadata": {},
   "outputs": [],
   "source": [
    "class Perceptron:\n",
    "    def __init__(self, n_f, alpha, ephocs):\n",
    "        self.alpha = alpha\n",
    "        self.ephocs = ephocs\n",
    "        self.weights = np.zeros((3, n_f))\n",
    "        self.bias = np.zeros(3)\n",
    "\n",
    "    def fit(self, X, y):\n",
    "        for _ in range(self.ephocs):\n",
    "            for i in range(X.shape[0]):\n",
    "                scores = np.dot(self.weights, X[i]) + self.bias\n",
    "                predicted = np.argmax(scores)\n",
    "                if predicted != y[i]:\n",
    "                    self.weights[y[i]] += self.alpha * X[i]\n",
    "                    self.bias[y[i]] += self.alpha\n",
    "                    self.weights[predicted] -= self.alpha * X[i]\n",
    "                    self.bias[predicted] -= self.alpha\n",
    "\n",
    "    def predict(self, X):\n",
    "        scores = np.dot(self.weights, X.T) + self.bias.reshape(-1, 1)\n",
    "        return np.argmax(scores, axis=0)"
   ]
  },
  {
   "attachments": {},
   "cell_type": "markdown",
   "metadata": {},
   "source": [
    "### Carregamos a base de dados"
   ]
  },
  {
   "cell_type": "code",
   "execution_count": 28,
   "metadata": {},
   "outputs": [],
   "source": [
    "x_train = np.load('db1/X_train.npy'); y_train = np.load('db1/y_train.npy')\n",
    "x_test = np.load('db1/X_test.npy'); y_test = np.load('db1/y_test.npy')"
   ]
  },
  {
   "attachments": {},
   "cell_type": "markdown",
   "metadata": {},
   "source": [
    "### Criamos o objeto para treino e em seguida exibimos a acurácia"
   ]
  },
  {
   "cell_type": "code",
   "execution_count": 29,
   "metadata": {},
   "outputs": [
    {
     "name": "stdout",
     "output_type": "stream",
     "text": [
      "Accuracy: 83.33%\n"
     ]
    }
   ],
   "source": [
    "classifier = Perceptron(n_f = 13, alpha = 0.1, ephocs = 5000)\n",
    "classifier.fit(x_train, y_train)\n",
    "\n",
    "y_pred = classifier.predict(x_test)\n",
    "\n",
    "accuracy = round(np.mean(y_pred == y_test)*100,2)\n",
    "print(\"Accuracy: \"+str(accuracy)+\"%\")"
   ]
  }
 ],
 "metadata": {
  "kernelspec": {
   "display_name": "Python 3",
   "language": "python",
   "name": "python3"
  },
  "language_info": {
   "codemirror_mode": {
    "name": "ipython",
    "version": 3
   },
   "file_extension": ".py",
   "mimetype": "text/x-python",
   "name": "python",
   "nbconvert_exporter": "python",
   "pygments_lexer": "ipython3",
   "version": "3.10.10"
  },
  "orig_nbformat": 4,
  "vscode": {
   "interpreter": {
    "hash": "6c55a439dbb469619f0debeb07dec8eda828c9ea91bd7d072404e8075f4a879a"
   }
  }
 },
 "nbformat": 4,
 "nbformat_minor": 2
}
