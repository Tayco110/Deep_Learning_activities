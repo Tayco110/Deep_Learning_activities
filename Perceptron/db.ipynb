{
 "cells": [
  {
   "cell_type": "code",
   "execution_count": 224,
   "metadata": {},
   "outputs": [],
   "source": [
    "import numpy as np\n",
    "import pandas as pd\n",
    "import matplotlib.pyplot as plt\n",
    "\n",
    "from matplotlib.colors import ListedColormap"
   ]
  },
  {
   "cell_type": "code",
   "execution_count": 225,
   "metadata": {},
   "outputs": [],
   "source": [
    "#Import to ignore warnings\n",
    "import warnings\n",
    "warnings.filterwarnings(\"ignore\")"
   ]
  },
  {
   "cell_type": "code",
   "execution_count": 226,
   "metadata": {},
   "outputs": [],
   "source": [
    "class Perceptron:\n",
    "    #Alpha:  Taxa de aprendizagem\n",
    "    #Ephocs: Número de iterações(épocas)\n",
    "    def __init__(self, alpha = 0.01, ephocs = 10):\n",
    "        self.alpha = alpha\n",
    "        self.ephocs = ephocs\n",
    "\n",
    "    #Método para treinar a classe\n",
    "    #X: Conjunto de dados\n",
    "    #y: Rótulosdo dataset\n",
    "    def fit(self, X, y):\n",
    "        self.w = np.zeros(1 + X.shape[1])\n",
    "        self.e = []\n",
    "\n",
    "        for _ in range(self.ephocs):\n",
    "            error = 0\n",
    "            for xi, target in zip(X, y):\n",
    "                update = self.alpha * (target - self.predict(xi))\n",
    "                self.w[1:] += update * xi\n",
    "                self.w[0] += update\n",
    "                error += int(update != 0.0)\n",
    "            self.e.append(error)\n",
    "\n",
    "    #Método que calcula o prouto entre os pesos e os inputs\n",
    "    #Retorna 1 caso o valor seja >= 0 e -1 caso contrário\n",
    "    def predict(self, X):\n",
    "        return np.where(self.net_input(X) >= 0.0, 1, 0)\n",
    "    \n",
    "    #Método que retorna o produto escalar entre o vetor de entradas(xi) e o velor de pesos somado com o bias\n",
    "    def net_input(self, X):\n",
    "        return np.dot(X, self.w[1:]) + self.w[0]"
   ]
  },
  {
   "cell_type": "code",
   "execution_count": 227,
   "metadata": {},
   "outputs": [],
   "source": [
    "x_train = np.load('db0/X_train.npy'); y_train = np.load('db0/y_train.npy')\n",
    "x_test = np.load('db0/X_test.npy'); y_test = np.load('db0/y_test.npy')"
   ]
  },
  {
   "cell_type": "code",
   "execution_count": 228,
   "metadata": {},
   "outputs": [],
   "source": [
    "#Estanciando a classe do Perceptron e executando o treinamento\n",
    "perceptron = Perceptron(0.1, 5000)\n",
    "perceptron.fit(x_train,y_train)"
   ]
  },
  {
   "cell_type": "code",
   "execution_count": 233,
   "metadata": {},
   "outputs": [],
   "source": [
    "#Função para calcular e plotar o resultado\n",
    "def result(X, y, classifier, step=0.02):\n",
    "\n",
    "    marker  = ('s','x','o','^','v')\n",
    "    color = ('red', 'blue', 'lightgreen', 'gray', 'cyan')\n",
    "    cmap = ListedColormap(color[:len(np.unique(y))])\n",
    "\n",
    "    x1_min, x1_max = X[:,0].min() -1 ,X[:,0].max() +1\n",
    "    x2_min, x2_max = X[:,1].min() -1 ,X[:,1].max()+1\n",
    "\n",
    "    xx1, xx2 = np.meshgrid(np.arange(x1_min, x1_max, step), np.arange(x2_min, x2_max, step))\n",
    "\n",
    "    z = classifier.predict(np.array([xx1.ravel(), xx2.ravel()]).T)\n",
    "    z = z.reshape(xx1.shape)\n",
    "\n",
    "    plt.contourf(xx1, xx2, z, alpha = 0.2, cmap=cmap)\n",
    "\n",
    "    for idx, cl in enumerate(np.unique(y)):\n",
    "        plt.scatter(x=X[y == cl, 0], y = X[y == cl, 1], c=cmap(idx), marker=marker[idx], label = cl)"
   ]
  },
  {
   "cell_type": "code",
   "execution_count": 234,
   "metadata": {},
   "outputs": [
    {
     "data": {
      "image/png": "[encoded data removed]",
      "text/plain": [
       "<Figure size 640x480 with 1 Axes>"
      ]
     },
     "metadata": {},
     "output_type": "display_data"
    }
   ],
   "source": [
    "#Plot do resultado\n",
    "result(x_test, y_test, perceptron)\n",
    "plt.legend(loc='upper left')\n",
    "plt.show()"
   ]
  }
 ],
 "metadata": {
  "kernelspec": {
   "display_name": "Python 3",
   "language": "python",
   "name": "python3"
  },
  "language_info": {
   "codemirror_mode": {
    "name": "ipython",
    "version": 3
   },
   "file_extension": ".py",
   "mimetype": "text/x-python",
   "name": "python",
   "nbconvert_exporter": "python",
   "pygments_lexer": "ipython3",
   "version": "3.10.10"
  },
  "orig_nbformat": 4,
  "vscode": {
   "interpreter": {
    "hash": "6c55a439dbb469619f0debeb07dec8eda828c9ea91bd7d072404e8075f4a879a"
   }
  }
 },
 "nbformat": 4,
 "nbformat_minor": 2
}
